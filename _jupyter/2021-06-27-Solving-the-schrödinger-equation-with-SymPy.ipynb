{
 "cells": [
  {
   "cell_type": "markdown",
   "id": "31398be3",
   "metadata": {},
   "source": [
    "Today I will briefly show how to use [SymPy][sympy] for solving the Schrödinger equation.\n",
    "\n",
    "Basically there are two ways to approach the Schrödinger equation with a computer: numerically and analytically/symbolically. For many problems often only the purely numerical way remains, because the corresponding equations cannot be solved analytically or only by analytical approximation methods.\n",
    "\n",
    "But to get a feeling for the symbolic solution of differential equations like the Schrödinger equation, it is advisable to start with the simplest case of a Schrödinger equation: the \n",
    "[quantum free particle][free_particle].\n",
    "\n",
    "[sympy]: https://www.sympy.org/en/index.html\n",
    "[free_particle]: https://en.wikipedia.org/wiki/Free_particle#Quantum_free_particle"
   ]
  },
  {
   "cell_type": "markdown",
   "id": "f193a89a",
   "metadata": {},
   "source": [
    "## The quantum free particle\n",
    "\n",
    "A quantum particle in one spatial dimension is described by a wave function in position space:\n",
    "\n",
    "$$\n",
    "\\psi(x, t)\n",
    "$$\n",
    "\n",
    "The Hamiltonian for the *free particle* is\n",
    "\n",
    "$$\n",
    "\\hat{H} = \\frac{1}{2m} \\hat{p}^2\n",
    "$$\n",
    "\n",
    "With $\\hat p = i \\hbar \\frac{\\partial}{\\partial x}$ in position space, we get for the hamiltonian:\n",
    "\n",
    "$$\n",
    "\\hat{H} = -\\frac{\\hbar^2}{2m} \\frac{\\partial^2}{\\partial x^2}\n",
    "$$\n",
    "\n",
    "the particle is called \"free\", because there is no potential energy term in the\n",
    "Hamiltonian and the particle is *free* to move (in one dimension).\n",
    "\n",
    "The [Schrödinger Equation][schroedinger] is\n",
    "\n",
    "$$\n",
    "    i \\hbar \\frac{\\partial}{\\partial t} \\psi(x, t) = \\hat{H} \\psi(x,t)\n",
    "$$\n",
    "\n",
    "We make the *ansatz* of separating time and space dependency in $\\psi$:\n",
    "\n",
    "$$\n",
    "\\psi(x, t) = \\psi(t) \\, \\psi(x)\n",
    "$$\n",
    "\n",
    "this way, because $\\hat{H}$ does not effect time, we can first search for\n",
    "solutions of the time-independent Schrödinger Equation:\n",
    "\n",
    "$$\n",
    "E \\psi(x) = \\hat{H} \\psi(x) = -\\frac{\\hbar^2}{2m} \\frac{\\partial^2 \\psi(x)}{\\partial x^2}\n",
    "$$\n",
    "\n",
    "The solutions are called *eigenfunctions* of the Hamilton operator and the\n",
    "energy values $E$ are the corresponding *eigenvalues*.\n",
    "\n",
    "For these eigenfunctions the overall solution to the time-dependent Schrödinger equation is:\n",
    "\n",
    "$$\n",
    "\\psi(x, t) = e^{-i E t / \\hbar} \\psi(x)\n",
    "$$\n",
    "\n",
    "So, once the solutions to the time-independent Schrödinger equation are found, the time-dependency\n",
    "comes in rather easily. Finding the eigenfunctions of the Hamiltonian is often the most\n",
    "important task.\n",
    "\n",
    "[schroedinger]: https://en.wikipedia.org/wiki/Schr%C3%B6dinger_equation"
   ]
  },
  {
   "cell_type": "markdown",
   "id": "b63df6f9",
   "metadata": {},
   "source": [
    "### Solving in SymPy\n",
    "\n",
    "Let's try using SymPy for analytical solutions to this eigenvalue problem!\n",
    "\n",
    "First, import sympy and define functions, variables, parameters, constants..."
   ]
  },
  {
   "cell_type": "code",
   "execution_count": 1,
   "id": "6a8a2355",
   "metadata": {},
   "outputs": [],
   "source": [
    "from IPython.display import display\n",
    "import sympy as smp\n",
    "from sympy.physics.quantum.constants import hbar\n",
    "\n",
    "psi = smp.symbols(r'\\psi', cls=smp.Function, complex=True)\n",
    "x = smp.symbols('x', real=True)\n",
    "E, m, L = smp.symbols('E m L', real=True, positive=True)"
   ]
  },
  {
   "cell_type": "markdown",
   "id": "5862018b",
   "metadata": {},
   "source": [
    "Please note, that we tell SymPy, that $E$, $m$ and $L$ are real and positive. The\n",
    "position $x$ on the other hand can be negative, too. And the wavefunction $\\psi$ is\n",
    "complex and its class is `Function`. \n",
    "\n",
    "Now, let's define the Hamilton operator. \n",
    "\n",
    "For this we need the second derivative of the function $\\psi(x)$ with respect to $x$.\n",
    "This is done with the SymPy expression `diff(psi(x), x, x)`."
   ]
  },
  {
   "cell_type": "code",
   "execution_count": 2,
   "id": "47cd5eeb",
   "metadata": {},
   "outputs": [
    {
     "data": {
      "text/latex": [
       "$\\displaystyle - \\frac{\\hbar^{2} \\frac{d^{2}}{d x^{2}} \\psi{\\left(x \\right)}}{2 m}$"
      ],
      "text/plain": [
       "-hbar**2*Derivative(\\psi(x), (x, 2))/(2*m)"
      ]
     },
     "execution_count": 2,
     "metadata": {},
     "output_type": "execute_result"
    }
   ],
   "source": [
    "H_psi = - (hbar**2/ (2 * m)) * smp.diff(psi(x), x, x)\n",
    "H_psi"
   ]
  },
  {
   "cell_type": "markdown",
   "id": "63dbf352",
   "metadata": {},
   "source": [
    "Finally, the Schrödinger equation for the free particle is define as ... an equation! Who would have guessed?\n",
    "\n",
    "But how do we express the equation\n",
    "\n",
    "$$\n",
    "E \\psi = \\hat H \\psi\n",
    "$$\n",
    "\n",
    "in SymPy?\n",
    "\n",
    "The naive way does not work:"
   ]
  },
  {
   "cell_type": "code",
   "execution_count": 3,
   "id": "e74dad64",
   "metadata": {},
   "outputs": [
    {
     "ename": "SyntaxError",
     "evalue": "cannot assign to operator (<ipython-input-3-1668d17d04a1>, line 1)",
     "output_type": "error",
     "traceback": [
      "\u001b[1;36m  File \u001b[1;32m\"<ipython-input-3-1668d17d04a1>\"\u001b[1;36m, line \u001b[1;32m1\u001b[0m\n\u001b[1;33m    E * psi(x) = H_psi\u001b[0m\n\u001b[1;37m    ^\u001b[0m\n\u001b[1;31mSyntaxError\u001b[0m\u001b[1;31m:\u001b[0m cannot assign to operator\n"
     ]
    }
   ],
   "source": [
    "E * psi(x) = H_psi"
   ]
  },
  {
   "cell_type": "markdown",
   "id": "745b2f74",
   "metadata": {},
   "source": [
    "This is because the equal sign `=` in Python is really $:=$, an *assignment*.\n",
    "\n",
    "Another possibility would be:"
   ]
  },
  {
   "cell_type": "code",
   "execution_count": 4,
   "id": "4aa4c883",
   "metadata": {},
   "outputs": [
    {
     "data": {
      "text/plain": [
       "False"
      ]
     },
     "execution_count": 4,
     "metadata": {},
     "output_type": "execute_result"
    }
   ],
   "source": [
    "E * psi(x) == H_psi"
   ]
  },
  {
   "cell_type": "markdown",
   "id": "a345cc27",
   "metadata": {},
   "source": [
    "This time we do not get an error message, but it is still not, what we were looking for: \n",
    "the double equal sign `==` is the *comparison* operator. Clearly the right-hand-side (RHS) \n",
    "is in general not equal to the LHS. In fact we are looking for the solutions $\\psi$ for which the\n",
    "equality will hold.\n",
    "\n",
    "The correct way in SymPy is to define an `Eq` object, like `Eq(RHS, LHS)`. Let's do just that:"
   ]
  },
  {
   "cell_type": "code",
   "execution_count": 5,
   "id": "d4c4cdf1",
   "metadata": {},
   "outputs": [
    {
     "data": {
      "text/latex": [
       "$\\displaystyle E \\psi{\\left(x \\right)} = - \\frac{\\hbar^{2} \\frac{d^{2}}{d x^{2}} \\psi{\\left(x \\right)}}{2 m}$"
      ],
      "text/plain": [
       "Eq(E*\\psi(x), -hbar**2*Derivative(\\psi(x), (x, 2))/(2*m))"
      ]
     },
     "execution_count": 5,
     "metadata": {},
     "output_type": "execute_result"
    }
   ],
   "source": [
    "eq_schroed = smp.Eq(E * psi(x), H_psi)\n",
    "eq_schroed"
   ]
  },
  {
   "cell_type": "markdown",
   "id": "7fe0db6c",
   "metadata": {},
   "source": [
    "Now, we want to use `SymPy.dsolve` to get the solution for this ordinary differential equation (ODE)."
   ]
  },
  {
   "cell_type": "code",
   "execution_count": 6,
   "id": "c5579095",
   "metadata": {},
   "outputs": [
    {
     "data": {
      "text/latex": [
       "$\\displaystyle \\psi{\\left(x \\right)} = C_{1} \\sin{\\left(\\frac{\\sqrt{2} \\sqrt{E} \\sqrt{m} x}{\\hbar} \\right)} + C_{2} \\cos{\\left(\\frac{\\sqrt{2} \\sqrt{E} \\sqrt{m} x}{\\hbar} \\right)}$"
      ],
      "text/plain": [
       "Eq(\\psi(x), C1*sin(sqrt(2)*sqrt(E)*sqrt(m)*x/hbar) + C2*cos(sqrt(2)*sqrt(E)*sqrt(m)*x/hbar))"
      ]
     },
     "execution_count": 6,
     "metadata": {},
     "output_type": "execute_result"
    }
   ],
   "source": [
    "sol = smp.dsolve(eq_schroed, psi(x))\n",
    "sol"
   ]
  },
  {
   "cell_type": "markdown",
   "id": "c3e816bf",
   "metadata": {},
   "source": [
    "This alreads looks kind of right, but the factors in the arguments are a bit awkward. \n",
    "We can replace this with the wavenumber:\n",
    "\n",
    "$$\n",
    "k = \\frac{\\sqrt{2 m E}}{\\hbar}\n",
    "$$\n",
    "\n",
    "and substitute this in the solution:"
   ]
  },
  {
   "cell_type": "code",
   "execution_count": 7,
   "id": "8a74c4db",
   "metadata": {},
   "outputs": [
    {
     "data": {
      "text/latex": [
       "$\\displaystyle \\psi{\\left(x \\right)} = C_{1} \\sin{\\left(k x \\right)} + C_{2} \\cos{\\left(k x \\right)}$"
      ],
      "text/plain": [
       "Eq(\\psi(x), C1*sin(k*x) + C2*cos(k*x))"
      ]
     },
     "execution_count": 7,
     "metadata": {},
     "output_type": "execute_result"
    }
   ],
   "source": [
    "k = smp.symbols('k', real=True, positive=True)  # the k defined above must be positive, because E is real\n",
    "sol = sol.subs(smp.sqrt(2 * E * m) / hbar, k)\n",
    "sol"
   ]
  },
  {
   "cell_type": "markdown",
   "id": "b622ce6c",
   "metadata": {},
   "source": [
    "The usual way to decribe the position part of a quantum free particle (in one dimension) is:\n",
    "\n",
    "$$\n",
    "\\psi(x) = A e^{i k x}\n",
    "$$\n",
    "\n",
    "To see that both solutions are equivalent, one has to remember, that there is also a solution for $-k$ having the same energy.\n",
    "So we can always find solutions for the constants that will give:\n",
    "\n",
    "$$\n",
    "C_1 \\sin(kx) + C_2 \\cos(k x) = A_1 e^{ikx} + A_2 e^{-ikx}\n",
    "$$\n",
    "\n",
    "(The $C$´s and $A$´s can be complex, too) "
   ]
  },
  {
   "cell_type": "markdown",
   "id": "135aa70a",
   "metadata": {},
   "source": [
    "## Particle in a box\n",
    "\n",
    "Now we demand, that the particle is confined to a [box][box], this means we have the constraint:\n",
    "\n",
    "$$\n",
    "\\psi(0) =0 \\quad \\text{and} \\quad \\psi(L) = 0\n",
    "$$\n",
    "\n",
    "The original solution for the free particle is stored in `sol.rhs`\n",
    "\n",
    "[box]: https://en.wikipedia.org/wiki/Particle_in_a_box"
   ]
  },
  {
   "cell_type": "code",
   "execution_count": 8,
   "id": "634b35cd",
   "metadata": {},
   "outputs": [
    {
     "data": {
      "text/latex": [
       "$\\displaystyle C_{1} \\sin{\\left(k x \\right)} + C_{2} \\cos{\\left(k x \\right)}$"
      ],
      "text/plain": [
       "C1*sin(k*x) + C2*cos(k*x)"
      ]
     },
     "execution_count": 8,
     "metadata": {},
     "output_type": "execute_result"
    }
   ],
   "source": [
    "sol.rhs"
   ]
  },
  {
   "cell_type": "markdown",
   "id": "0b25c8b2",
   "metadata": {},
   "source": [
    "We are now using SymPy´s `solve` function to find the values for $C_1$, $C_2$ and $k$ that will \n",
    "satisfy the constraints given by the box for the free particle.\n",
    "\n",
    "These constraints are combined in a list, which means an `and` combination: both \n",
    "constraints must hold at the same time."
   ]
  },
  {
   "cell_type": "code",
   "execution_count": 9,
   "id": "519bc5b5",
   "metadata": {},
   "outputs": [
    {
     "data": {
      "text/latex": [
       "$\\displaystyle C_{2} = 0$"
      ],
      "text/plain": [
       "Eq(C2, 0)"
      ]
     },
     "metadata": {},
     "output_type": "display_data"
    },
    {
     "data": {
      "text/latex": [
       "$\\displaystyle C_{1} \\sin{\\left(L k \\right)} + C_{2} \\cos{\\left(L k \\right)} = 0$"
      ],
      "text/plain": [
       "Eq(C1*sin(L*k) + C2*cos(L*k), 0)"
      ]
     },
     "metadata": {},
     "output_type": "display_data"
    }
   ],
   "source": [
    "constraints = [smp.Eq(sol.rhs.subs(x, 0), 0), smp.Eq(sol.rhs.subs(x, L), 0)]\n",
    "for c in constraints: display(c)"
   ]
  },
  {
   "cell_type": "markdown",
   "id": "de0669da",
   "metadata": {},
   "source": [
    "(Here we could also use `constraints = [sol.rhs.subs(x, 0), sol.rhs.subs(x, L)]` as the constraints as just giving the term means implicitly equality with 0)\n",
    "\n",
    "Now we use these constraints in SymPy´s solve function to find the values for all parameters:"
   ]
  },
  {
   "cell_type": "code",
   "execution_count": 10,
   "id": "fda78083",
   "metadata": {},
   "outputs": [
    {
     "data": {
      "text/plain": [
       "[(0, 0, k), (C1, 0, pi/L)]"
      ]
     },
     "execution_count": 10,
     "metadata": {},
     "output_type": "execute_result"
    }
   ],
   "source": [
    "C1, C2 = smp.symbols('C1 C2')\n",
    "smp.solve(constraints, (C1, C2, k))"
   ]
  },
  {
   "cell_type": "markdown",
   "id": "9c8a9b7a",
   "metadata": {},
   "source": [
    "We get two solutions. The first one is trivial and not too useful, as it means $\\psi(x) = 0$\n",
    "\n",
    "The second solution is: $C_2 = 0$, $k = \\pi / L$, which gives $\\psi(x) = C_1 \\sin(\\pi x / L)$. This is surely correct,\n",
    "but only one possible solution.\n",
    "\n",
    "After some ~google searching~ research, I found SymPy´s [solveset][solveset]. Under the heading *What’s wrong with solve()*\n",
    "there is explicitly stated, that `solve` has issues with\n",
    " \n",
    "> Infinitely many solutions: $\\sin(x)=0$  \n",
    "\n",
    "So maybe `solveset` will be able to find *all* solutions for $k$.\n",
    "\n",
    "As it turns out, `solveset` itself can handle only one constraint, but we have two constraints. \n",
    "Luckily, same module has `nonlinsolve` which works perfectly:\n",
    "\n",
    "[solveset]: https://docs.sympy.org/latest/modules/solvers/solveset.html"
   ]
  },
  {
   "cell_type": "code",
   "execution_count": 11,
   "id": "6cd4a66a",
   "metadata": {},
   "outputs": [
    {
     "data": {
      "text/latex": [
       "$\\displaystyle \\left\\{\\left( 0, \\  0, \\  k\\right), \\left( C_{1}, \\  0, \\  \\left\\{\\frac{2 n \\pi + \\pi}{L}\\; |\\; n \\in \\mathbb{Z}\\right\\}\\right), \\left( C_{1}, \\  0, \\  \\left\\{\\frac{2 n \\pi}{L}\\; |\\; n \\in \\mathbb{Z}\\right\\}\\right)\\right\\}$"
      ],
      "text/plain": [
       "FiniteSet((0, 0, k), (C1, 0, ImageSet(Lambda(_n, 2*_n*pi/L), Integers)), (C1, 0, ImageSet(Lambda(_n, (2*_n*pi + pi)/L), Integers)))"
      ]
     },
     "execution_count": 11,
     "metadata": {},
     "output_type": "execute_result"
    }
   ],
   "source": [
    "from sympy.solvers.solveset import nonlinsolve\n",
    "nonlinsolve(constraints, (C1, C2, k))"
   ]
  },
  {
   "cell_type": "markdown",
   "id": "e4c2913a",
   "metadata": {},
   "source": [
    "We can combine the last two solutions to\n",
    "\n",
    "$$\n",
    "\\psi(x) = C_1 \\sin \\left(\\frac{n \\pi}{L} x \\right)\n",
    "$$\n",
    "\n",
    "which is, of course, the correct solution for the particle in a box."
   ]
  },
  {
   "cell_type": "markdown",
   "id": "c0fcad22",
   "metadata": {},
   "source": [
    "## Conclusion\n",
    "\n",
    "SymPy is a very powerful python package and it is really fantastic, that we get all this for free! \n",
    "\n",
    "On the other hand, even solving a rather simple problem took me quite some time and I feel like \n",
    "getting good in using SymPy would mean some substantial effort.\n",
    "\n",
    "The Jupyter notebook for this post can be found here: https://github.com/znswanderer/znswanderer.github.io/blob/main/_jupyter/2021-06-27-Solving-the-schr%C3%B6dinger-equation-with-SymPy.ipynb"
   ]
  },
  {
   "cell_type": "markdown",
   "id": "34d7a4a3",
   "metadata": {},
   "source": [
    "## References:\n",
    "\n",
    "* Introduction on how to use ODE solvers in SymPy: http://www.eg.bucknell.edu/~phys310/jupyter/ode_sympy.html\n",
    "* Thanks to Oscar Benjamin on stackoverflow, https://stackoverflow.com/a/68133782/16316043, who helped me with SymPy.\n",
    "* SymPy documentation: https://docs.sympy.org/latest/index.html"
   ]
  },
  {
   "cell_type": "code",
   "execution_count": null,
   "id": "d93308bd",
   "metadata": {},
   "outputs": [],
   "source": []
  }
 ],
 "metadata": {
  "kernelspec": {
   "display_name": "Python 3",
   "language": "python",
   "name": "python3"
  },
  "language_info": {
   "codemirror_mode": {
    "name": "ipython",
    "version": 3
   },
   "file_extension": ".py",
   "mimetype": "text/x-python",
   "name": "python",
   "nbconvert_exporter": "python",
   "pygments_lexer": "ipython3",
   "version": "3.8.8"
  },
  "toc-autonumbering": false,
  "toc-showtags": false
 },
 "nbformat": 4,
 "nbformat_minor": 5
}
