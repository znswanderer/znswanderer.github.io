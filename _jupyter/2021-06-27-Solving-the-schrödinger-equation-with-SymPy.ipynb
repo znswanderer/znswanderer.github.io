{
 "cells": [
  {
   "cell_type": "raw",
   "source": [
    "---\r\n",
    "layout: post\r\n",
    "title:  \"Solving the Schrödinger Equation with SymPy\"\r\n",
    "date:   2021-06-27\r\n",
    "categories: Physics\r\n",
    "tags:   [ODE, SymPy, Quantum Mechanics, Free Particle, Particle in a Box, SymPy solvers]\r\n",
    "---"
   ],
   "metadata": {}
  },
  {
   "cell_type": "markdown",
   "source": [
    "Today I will briefly show how to use [SymPy][sympy] for solving the Schrödinger equation.\n",
    "\n",
    "Basically there are two ways to approach the Schrödinger equation with a computer: numerically and analytically/symbolically. For many problems often only the purely numerical way remains, because the corresponding equations cannot be solved analytically or only by analytical approximation methods.\n",
    "\n",
    "[sympy]: https://www.sympy.org/en/index.html\n"
   ],
   "metadata": {}
  },
  {
   "cell_type": "raw",
   "source": [
    "<!--more-->"
   ],
   "metadata": {}
  },
  {
   "cell_type": "markdown",
   "source": [
    "But to get a feeling for the symbolic solution of differential equations like the Schrödinger equation, it is advisable to start with the simplest case of a Schrödinger equation: the \n",
    "[quantum free particle][free_particle].\n",
    "\n",
    "[free_particle]: https://en.wikipedia.org/wiki/Free_particle#Quantum_free_particle"
   ],
   "metadata": {}
  },
  {
   "cell_type": "markdown",
   "source": [
    "## The quantum free particle\n",
    "\n",
    "A quantum particle in one spatial dimension is described by a wave function in position space:\n",
    "\n",
    "$$\n",
    "\\psi(x, t)\n",
    "$$\n",
    "\n",
    "The Hamiltonian for the *free particle* is\n",
    "\n",
    "$$\n",
    "\\hat{H} = \\frac{1}{2m} \\hat{p}^2\n",
    "$$\n",
    "\n",
    "With $\\hat p = - i \\hbar \\frac{\\partial}{\\partial x}$ in position space, we get for the hamiltonian:\n",
    "\n",
    "$$\n",
    "\\hat{H} = -\\frac{\\hbar^2}{2m} \\frac{\\partial^2}{\\partial x^2}\n",
    "$$\n",
    "\n",
    "the particle is called \"free\", because there is no potential energy term in the\n",
    "Hamiltonian and the particle is *free* to move (in one dimension).\n",
    "\n",
    "The [Schrödinger Equation][schroedinger] is\n",
    "\n",
    "$$\n",
    "    i \\hbar \\frac{\\partial}{\\partial t} \\psi(x, t) = \\hat{H} \\psi(x,t)\n",
    "$$\n",
    "\n",
    "We make the *ansatz* of separating time and space dependency in $\\psi$:\n",
    "\n",
    "$$\n",
    "\\psi(x, t) = \\psi(t) \\, \\psi(x)\n",
    "$$\n",
    "\n",
    "this way, because $\\hat{H}$ does not effect time, we can first search for\n",
    "solutions of the time-independent Schrödinger Equation:\n",
    "\n",
    "$$\n",
    "E \\psi(x) = \\hat{H} \\psi(x) = -\\frac{\\hbar^2}{2m} \\frac{\\partial^2 \\psi(x)}{\\partial x^2}\n",
    "$$\n",
    "\n",
    "The solutions are called *eigenfunctions* of the Hamilton operator and the\n",
    "energy values $E$ are the corresponding *eigenvalues*.\n",
    "\n",
    "For these eigenfunctions the overall solution to the time-dependent Schrödinger equation is:\n",
    "\n",
    "$$\n",
    "\\psi(x, t) = e^{-i E t / \\hbar} \\psi(x)\n",
    "$$\n",
    "\n",
    "So, once the solutions to the time-independent Schrödinger equation are found, the time-dependency\n",
    "comes in rather easily. Finding the eigenfunctions of the Hamiltonian is often the most\n",
    "important task.\n",
    "\n",
    "[schroedinger]: https://en.wikipedia.org/wiki/Schr%C3%B6dinger_equation"
   ],
   "metadata": {}
  },
  {
   "cell_type": "markdown",
   "source": [
    "### Solving in SymPy\n",
    "\n",
    "Let's try using SymPy for analytical solutions to this eigenvalue problem!\n",
    "\n",
    "First, import sympy and define functions, variables, parameters, constants..."
   ],
   "metadata": {}
  },
  {
   "cell_type": "code",
   "execution_count": 2,
   "source": [
    "from IPython.display import display\r\n",
    "import sympy as smp\r\n",
    "from sympy.physics.quantum.constants import hbar\r\n",
    "\r\n",
    "psi = smp.symbols(r'\\psi', cls=smp.Function, complex=True)\r\n",
    "x = smp.symbols('x', real=True)\r\n",
    "E, m, L = smp.symbols('E m L', real=True, positive=True)"
   ],
   "outputs": [],
   "metadata": {}
  },
  {
   "cell_type": "markdown",
   "source": [
    "Please note, that we tell SymPy, that $E$, $m$ and $L$ are real and positive. The\n",
    "position $x$ on the other hand can be negative, too. And the wavefunction $\\psi$ is\n",
    "complex and its class is `Function`. \n",
    "\n",
    "Now, let's define the Hamilton operator. \n",
    "\n",
    "For this we need the second derivative of the function $\\psi(x)$ with respect to $x$.\n",
    "This is done with the SymPy expression `diff(psi(x), x, x)`."
   ],
   "metadata": {}
  },
  {
   "cell_type": "code",
   "execution_count": 3,
   "source": [
    "H_psi = - (hbar**2/ (2 * m)) * smp.diff(psi(x), x, x)\n",
    "H_psi"
   ],
   "outputs": [
    {
     "output_type": "execute_result",
     "data": {
      "text/plain": [
       "-hbar**2*Derivative(\\psi(x), (x, 2))/(2*m)"
      ],
      "text/latex": [
       "$\\displaystyle - \\frac{\\hbar^{2} \\frac{d^{2}}{d x^{2}} \\psi{\\left(x \\right)}}{2 m}$"
      ]
     },
     "metadata": {},
     "execution_count": 3
    }
   ],
   "metadata": {}
  },
  {
   "cell_type": "markdown",
   "source": [
    "Finally, the Schrödinger equation for the free particle is defined as ... an equation! Who would have guessed?\n",
    "\n",
    "But how do we express the equation\n",
    "\n",
    "$$\n",
    "E \\psi = \\hat H \\psi\n",
    "$$\n",
    "\n",
    "in SymPy?\n",
    "\n",
    "The naive way does not work:"
   ],
   "metadata": {}
  },
  {
   "cell_type": "code",
   "execution_count": 4,
   "source": [
    "E * psi(x) = H_psi"
   ],
   "outputs": [
    {
     "output_type": "error",
     "ename": "SyntaxError",
     "evalue": "cannot assign to operator (<ipython-input-4-1668d17d04a1>, line 1)",
     "traceback": [
      "\u001b[1;36m  File \u001b[1;32m\"<ipython-input-4-1668d17d04a1>\"\u001b[1;36m, line \u001b[1;32m1\u001b[0m\n\u001b[1;33m    E * psi(x) = H_psi\u001b[0m\n\u001b[1;37m    ^\u001b[0m\n\u001b[1;31mSyntaxError\u001b[0m\u001b[1;31m:\u001b[0m cannot assign to operator\n"
     ]
    }
   ],
   "metadata": {}
  },
  {
   "cell_type": "markdown",
   "source": [
    "This is because the equal sign `=` in Python is really $:=$, an *assignment*.\n",
    "\n",
    "Another possibility would be:"
   ],
   "metadata": {}
  },
  {
   "cell_type": "code",
   "execution_count": 5,
   "source": [
    "E * psi(x) == H_psi"
   ],
   "outputs": [
    {
     "output_type": "execute_result",
     "data": {
      "text/plain": [
       "False"
      ]
     },
     "metadata": {},
     "execution_count": 5
    }
   ],
   "metadata": {}
  },
  {
   "cell_type": "markdown",
   "source": [
    "This time we do not get an error message, but it is still not, what we were looking for: \n",
    "the double equal sign `==` is the *comparison* operator. Clearly the right-hand-side (RHS) \n",
    "is in general not equal to the LHS. In fact we are looking for the solutions $\\psi$ for which the\n",
    "equality will hold.\n",
    "\n",
    "The correct way in SymPy is to define an `Eq` object, like `Eq(RHS, LHS)`. Let's do just that:"
   ],
   "metadata": {}
  },
  {
   "cell_type": "code",
   "execution_count": 6,
   "source": [
    "eq_schroed = smp.Eq(E * psi(x), H_psi)\n",
    "eq_schroed"
   ],
   "outputs": [
    {
     "output_type": "execute_result",
     "data": {
      "text/plain": [
       "Eq(E*\\psi(x), -hbar**2*Derivative(\\psi(x), (x, 2))/(2*m))"
      ],
      "text/latex": [
       "$\\displaystyle E \\psi{\\left(x \\right)} = - \\frac{\\hbar^{2} \\frac{d^{2}}{d x^{2}} \\psi{\\left(x \\right)}}{2 m}$"
      ]
     },
     "metadata": {},
     "execution_count": 6
    }
   ],
   "metadata": {}
  },
  {
   "cell_type": "markdown",
   "source": [
    "Now, we want to use `SymPy.dsolve` to get the solution for this ordinary differential equation (ODE)."
   ],
   "metadata": {}
  },
  {
   "cell_type": "code",
   "execution_count": 7,
   "source": [
    "sol = smp.dsolve(eq_schroed, psi(x))\n",
    "sol"
   ],
   "outputs": [
    {
     "output_type": "execute_result",
     "data": {
      "text/plain": [
       "Eq(\\psi(x), C1*sin(sqrt(2)*sqrt(E)*sqrt(m)*x/hbar) + C2*cos(sqrt(2)*sqrt(E)*sqrt(m)*x/hbar))"
      ],
      "text/latex": [
       "$\\displaystyle \\psi{\\left(x \\right)} = C_{1} \\sin{\\left(\\frac{\\sqrt{2} \\sqrt{E} \\sqrt{m} x}{\\hbar} \\right)} + C_{2} \\cos{\\left(\\frac{\\sqrt{2} \\sqrt{E} \\sqrt{m} x}{\\hbar} \\right)}$"
      ]
     },
     "metadata": {},
     "execution_count": 7
    }
   ],
   "metadata": {}
  },
  {
   "cell_type": "markdown",
   "source": [
    "This alreads looks kind of right, but the factors in the arguments are a bit awkward. \n",
    "We can replace this with the wavenumber:\n",
    "\n",
    "$$\n",
    "k = \\frac{\\sqrt{2 m E}}{\\hbar}\n",
    "$$\n",
    "\n",
    "and substitute this in the solution:"
   ],
   "metadata": {}
  },
  {
   "cell_type": "code",
   "execution_count": 8,
   "source": [
    "k = smp.symbols('k', real=True, positive=True)  # the k defined above must be positive, because E is real\n",
    "sol = sol.subs(smp.sqrt(2 * E * m) / hbar, k)\n",
    "sol"
   ],
   "outputs": [
    {
     "output_type": "execute_result",
     "data": {
      "text/plain": [
       "Eq(\\psi(x), C1*sin(k*x) + C2*cos(k*x))"
      ],
      "text/latex": [
       "$\\displaystyle \\psi{\\left(x \\right)} = C_{1} \\sin{\\left(k x \\right)} + C_{2} \\cos{\\left(k x \\right)}$"
      ]
     },
     "metadata": {},
     "execution_count": 8
    }
   ],
   "metadata": {}
  },
  {
   "cell_type": "markdown",
   "source": [
    "The usual way to decribe the position part of a quantum free particle (in one dimension) is:\n",
    "\n",
    "$$\n",
    "\\psi(x) = A e^{i k x}\n",
    "$$\n",
    "\n",
    "To see that both solutions are equivalent, one has to remember, that there is also a solution for $-k$ having the same energy.\n",
    "So we can always find solutions for the constants that will give:\n",
    "\n",
    "$$\n",
    "C_1 \\sin(kx) + C_2 \\cos(k x) = A_1 e^{ikx} + A_2 e^{-ikx}\n",
    "$$\n",
    "\n",
    "(The $C$´s and $A$´s can be complex, too) "
   ],
   "metadata": {}
  },
  {
   "cell_type": "markdown",
   "source": [
    "## Particle in a box\n",
    "\n",
    "Now we demand, that the particle is confined to a [box][box], this means we have the constraint:\n",
    "\n",
    "$$\n",
    "\\psi(0) =0 \\quad \\text{and} \\quad \\psi(L) = 0\n",
    "$$\n",
    "\n",
    "The original solution for the free particle is stored in `sol.rhs`\n",
    "\n",
    "[box]: https://en.wikipedia.org/wiki/Particle_in_a_box"
   ],
   "metadata": {}
  },
  {
   "cell_type": "code",
   "execution_count": 9,
   "source": [
    "sol.rhs"
   ],
   "outputs": [
    {
     "output_type": "execute_result",
     "data": {
      "text/plain": [
       "C1*sin(k*x) + C2*cos(k*x)"
      ],
      "text/latex": [
       "$\\displaystyle C_{1} \\sin{\\left(k x \\right)} + C_{2} \\cos{\\left(k x \\right)}$"
      ]
     },
     "metadata": {},
     "execution_count": 9
    }
   ],
   "metadata": {}
  },
  {
   "cell_type": "markdown",
   "source": [
    "We are now using SymPy´s `solve` function to find the values for $C_1$, $C_2$ and $k$ that will \n",
    "satisfy the constraints given by the box for the free particle.\n",
    "\n",
    "These constraints are combined in a list, which means an `and` combination: both \n",
    "constraints must hold at the same time."
   ],
   "metadata": {}
  },
  {
   "cell_type": "code",
   "execution_count": 10,
   "source": [
    "constraints = [smp.Eq(sol.rhs.subs(x, 0), 0), smp.Eq(sol.rhs.subs(x, L), 0)]\n",
    "for c in constraints: display(c)"
   ],
   "outputs": [
    {
     "output_type": "display_data",
     "data": {
      "text/plain": [
       "Eq(C2, 0)"
      ],
      "text/latex": [
       "$\\displaystyle C_{2} = 0$"
      ]
     },
     "metadata": {}
    },
    {
     "output_type": "display_data",
     "data": {
      "text/plain": [
       "Eq(C1*sin(L*k) + C2*cos(L*k), 0)"
      ],
      "text/latex": [
       "$\\displaystyle C_{1} \\sin{\\left(L k \\right)} + C_{2} \\cos{\\left(L k \\right)} = 0$"
      ]
     },
     "metadata": {}
    }
   ],
   "metadata": {}
  },
  {
   "cell_type": "markdown",
   "source": [
    "(Here we could also use `constraints = [sol.rhs.subs(x, 0), sol.rhs.subs(x, L)]` as the constraints as just giving the term means implicitly equality with 0)\n",
    "\n",
    "Now we use these constraints in SymPy´s solve function to find the values for all parameters:"
   ],
   "metadata": {}
  },
  {
   "cell_type": "code",
   "execution_count": 11,
   "source": [
    "C1, C2 = smp.symbols('C1 C2')\n",
    "smp.solve(constraints, (C1, C2, k))"
   ],
   "outputs": [
    {
     "output_type": "execute_result",
     "data": {
      "text/plain": [
       "[(0, 0, k), (C1, 0, pi/L)]"
      ]
     },
     "metadata": {},
     "execution_count": 11
    }
   ],
   "metadata": {}
  },
  {
   "cell_type": "markdown",
   "source": [
    "We get two solutions. The first one is trivial and not too useful, as it means $\\psi(x) = 0$\n",
    "\n",
    "The second solution is: $C_2 = 0$, $k = \\pi / L$, which gives $\\psi(x) = C_1 \\sin(\\pi x / L)$. This is surely correct,\n",
    "but only one possible solution.\n",
    "\n",
    "After some ~google searching~ research, I found SymPy´s [solveset][solveset]. Under the heading *What’s wrong with solve()*\n",
    "there is explicitly stated, that `solve` has issues with\n",
    " \n",
    "> Infinitely many solutions: $\\sin(x)=0$  \n",
    "\n",
    "So maybe `solveset` will be able to find *all* solutions for $k$.\n",
    "\n",
    "As it turns out, `solveset` itself can handle only one constraint, but we have two constraints. \n",
    "Luckily, same module has `nonlinsolve` which works perfectly:\n",
    "\n",
    "[solveset]: https://docs.sympy.org/latest/modules/solvers/solveset.html"
   ],
   "metadata": {}
  },
  {
   "cell_type": "code",
   "execution_count": 12,
   "source": [
    "from sympy.solvers.solveset import nonlinsolve\n",
    "nonlinsolve(constraints, (C1, C2, k))"
   ],
   "outputs": [
    {
     "output_type": "execute_result",
     "data": {
      "text/plain": [
       "FiniteSet((0, 0, k), (C1, 0, ImageSet(Lambda(_n, 2*_n*pi/L), Integers)), (C1, 0, ImageSet(Lambda(_n, (2*_n*pi + pi)/L), Integers)))"
      ],
      "text/latex": [
       "$\\displaystyle \\left\\{\\left( 0, \\  0, \\  k\\right), \\left( C_{1}, \\  0, \\  \\left\\{\\frac{2 n \\pi + \\pi}{L}\\; \\middle|\\; n \\in \\mathbb{Z}\\right\\}\\right), \\left( C_{1}, \\  0, \\  \\left\\{\\frac{2 n \\pi}{L}\\; \\middle|\\; n \\in \\mathbb{Z}\\right\\}\\right)\\right\\}$"
      ]
     },
     "metadata": {},
     "execution_count": 12
    }
   ],
   "metadata": {}
  },
  {
   "cell_type": "markdown",
   "source": [
    "We can combine the last two solutions to\n",
    "\n",
    "$$\n",
    "\\psi(x) = C_1 \\sin \\left(\\frac{n \\pi}{L} x \\right)\n",
    "$$\n",
    "\n",
    "which is, of course, the correct solution for the particle in a box."
   ],
   "metadata": {}
  },
  {
   "cell_type": "markdown",
   "source": [
    "## Conclusion\n",
    "\n",
    "SymPy is a very powerful python package and it is really fantastic, that we get all this for free! \n",
    "\n",
    "On the other hand, even solving a rather simple problem took me quite some time and I feel like \n",
    "getting good in using SymPy would mean some substantial effort."
   ],
   "metadata": {}
  },
  {
   "cell_type": "markdown",
   "source": [
    "## References:\n",
    "\n",
    "* Introduction on how to use ODE solvers in SymPy: <http://www.eg.bucknell.edu/~phys310/jupyter/ode_sympy.html>\n",
    "* Thanks to Oscar Benjamin on [stackoverflow][benjamin], who helped me with SymPy.\n",
    "* SymPy documentation: <https://docs.sympy.org/latest/index.html>\n",
    "\n",
    "[benjamin]: https://stackoverflow.com/a/68133782/16316043"
   ],
   "metadata": {}
  }
 ],
 "metadata": {
  "kernelspec": {
   "name": "python3",
   "display_name": "Python 3.8.8 64-bit ('timni': virtualenv)"
  },
  "language_info": {
   "codemirror_mode": {
    "name": "ipython",
    "version": 3
   },
   "file_extension": ".py",
   "mimetype": "text/x-python",
   "name": "python",
   "nbconvert_exporter": "python",
   "pygments_lexer": "ipython3",
   "version": "3.8.8"
  },
  "toc-autonumbering": false,
  "toc-showtags": false,
  "interpreter": {
   "hash": "18e75209b924e3ac2fe91e94bde873a646a2dfe8be0a8b69dcb6f3ae4b04cd63"
  }
 },
 "nbformat": 4,
 "nbformat_minor": 5
}