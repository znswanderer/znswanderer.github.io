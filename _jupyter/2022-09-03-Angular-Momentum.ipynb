{
 "cells": [
  {
   "cell_type": "raw",
   "id": "ea7f41bf-0420-4e94-9841-36f180eaab2c",
   "metadata": {},
   "source": [
    "---\n",
    "layout: post\n",
    "title:  \"The Angular Momentum as Generator of Rotation\"\n",
    "date:   2022-09-01\n",
    "categories: Physics\n",
    "tags:   [Quantum Mechanics, Angular Momentum]\n",
    "---"
   ]
  },
  {
   "cell_type": "markdown",
   "id": "4c76d958-b957-45f1-a8f7-5852114f8ff7",
   "metadata": {},
   "source": [
    "In this post we will examine how to perform a rotation in a two-dimensional system. We will see, that \n",
    "the rotation is linked to the angular momentum operator, just like the spatial translation is generated\n",
    "by the [momentum operator](https://znswanderer.github.io/physics/Momentum-Operator/).\n",
    "\n",
    "A wavefunction $\\psi(x,y)$ in the $xy$-plane shall be rotated by an angle $\\Delta \\varphi$\n",
    "with respect to the origin, resulting in a new wavefunction $\\tilde \\psi(x)$ (not shown\n",
    "in the picture for clarity).\n",
    "\n",
    "![Image](rotation_sep2022.png)"
   ]
  },
  {
   "cell_type": "raw",
   "id": "f4089b79-51a5-48a7-b40d-c41ab349d7be",
   "metadata": {},
   "source": [
    "\n",
    "<!--more-->\n"
   ]
  },
  {
   "cell_type": "markdown",
   "id": "b58ee100-512b-46fc-9df0-9b81b0825353",
   "metadata": {},
   "source": [
    "If we want to rotate a point in the $xy$-plane given by the vector $\\vec p = \\begin{bmatrix} x & y \\end{bmatrix}^T$ \n",
    "we can do this by applying a [rotation matrix](https://en.wikipedia.org/wiki/Rotation_matrix):\n",
    "\n",
    "$$\n",
    "\\vec p' =\n",
    "\\begin{bmatrix}\n",
    "x' \\\\\n",
    "y'\n",
    "\\end{bmatrix} \n",
    "=\n",
    "\\begin{bmatrix}\n",
    "\\cos \\Delta \\varphi & -\\sin \\Delta \\varphi \\\\\n",
    "\\sin \\Delta \\varphi & \\cos \\Delta \\varphi\n",
    "\\end{bmatrix}\n",
    "\\begin{bmatrix}\n",
    "x \\\\\n",
    "y\n",
    "\\end{bmatrix}\n",
    "$$\n",
    "\n",
    "(Here we are using square brackets for vectors and matrices to distinguish these objects from the vectors and operators\n",
    "that we use for quantum wave functions and operators, for which we use round brackets)"
   ]
  },
  {
   "cell_type": "markdown",
   "id": "904bcb4f-1393-4bc9-b744-22b8b1eac47e",
   "metadata": {},
   "source": [
    "The problem now is that we want to rotate not only single points, but the complete set of values for the entire $xy$-plane, \n",
    "i.e. the wave function $\\varphi(x,y)$ for all $x$ and $y$ at the same time.\n",
    "We do this by focusing on the operation itself, that moves a point $\\vec p$ to $\\vec p'$:\n",
    "\n",
    "$$\n",
    "\\Delta \\vec r =\n",
    "\\vec p' - \\vec p \n",
    "=\n",
    "\\begin{bmatrix}\n",
    "0 & -\\sin \\Delta \\varphi \\\\\n",
    "\\sin \\Delta \\varphi & 0\n",
    "\\end{bmatrix}\n",
    "\\begin{bmatrix}\n",
    "x \\\\\n",
    "y\n",
    "\\end{bmatrix}\n",
    "$$\n",
    "\n",
    "or for small $\\Delta \\varphi$\n",
    "\n",
    "$$\n",
    "\\Delta \\vec r \\approx\n",
    "\\left(- y \\vec e_x + x \\vec e_y \\right)   \\Delta \\varphi \n",
    "$$\n",
    "\n",
    "This can be understood as two separate translations, one in the $x$-direction and one in the $y$-direction:\n",
    "$\\Delta \\vec r = \\Delta \\vec r_x + \\Delta \\vec r_x$ with\n",
    "\n",
    "$$\n",
    "\\begin{align}\n",
    "\\Delta \\vec r_x &= -y \\Delta \\varphi \\vec e_x \\\\\n",
    "\\Delta \\vec r_y &= x \\Delta \\varphi \\vec e_y \\, .\n",
    "\\end{align}\n",
    "$$"
   ]
  },
  {
   "cell_type": "markdown",
   "id": "08cf1ecb-de96-49b0-8304-b1020c482a32",
   "metadata": {},
   "source": [
    "## Moving to quantum mechanics\n",
    "\n",
    "So basically we have two separate translations for the $x$ and $y$ direction and the amount\n",
    "of the translation is modified by $\\Delta \\varphi$ and the distance to the origin in the complementary coordinate \n",
    "\n",
    "$$\n",
    "\\begin{aligned}\n",
    "U_{\\Delta x}:& \\quad\n",
    "\\Delta x = -y \\Delta \\varphi \\\\\n",
    "U_{\\Delta y}:& \\quad\\Delta y = x \\Delta \\varphi\n",
    "\\end{aligned}\n",
    "$$"
   ]
  },
  {
   "cell_type": "markdown",
   "id": "982d4ac3-0a42-40ac-bf0a-4f7d7d2e7837",
   "metadata": {},
   "source": [
    "Imagine a state completely localized at $x$ and $y$, that is\n",
    "\n",
    "$$\n",
    "|x, y \\rangle = |x \\rangle \\otimes |y \\rangle \\, .\n",
    "$$\n",
    "\n",
    "The distance from the origins can be retrieved by the $\\hat x$ and $\\hat y$ operators as the localized states\n",
    "are eigenfunctions of the operators\n",
    "\n",
    "$$\n",
    "\\begin{aligned}\n",
    "x |x \\rangle &= \\hat x |x \\rangle \\\\\n",
    "y |y \\rangle &= \\hat y |y \\rangle \\, .\n",
    "\\end{aligned}\n",
    "$$"
   ]
  },
  {
   "cell_type": "markdown",
   "id": "7cc192d0-163a-4fb4-a0d1-ce9485f50806",
   "metadata": {},
   "source": [
    "As we know from the [last post](https://znswanderer.github.io/physics/Momentum-Operator/), the operation of a translation is done by an unitary operator, \n",
    "whose generator is the momentum operator. So if we translate this localised wavefunction by $\\Delta \\vec r$ we find\n",
    "\n",
    "$$\n",
    "|\\tilde x, \\tilde y \\rangle  =\n",
    "\\left( \\hat U_{-y \\Delta \\varphi} \\otimes \\hat U_{x \\Delta \\varphi} \\right)\n",
    "\\left( |x \\rangle \\otimes |y \\rangle \\right)\n",
    "$$\n",
    "\n",
    "If we keep $\\Delta \\varphi$ small, such that both $-y \\Delta \\varphi$ and $x \\Delta \\varphi$ are small we can write\n",
    "\n",
    "$$\n",
    "\\begin{aligned}\n",
    "|\\tilde x, \\tilde y \\rangle  &\\approx\n",
    "\\left(\n",
    "\\left[ 1 +  i y \\Delta \\varphi \\hat p_x  / \\hbar \\right]\n",
    "\\otimes\n",
    "\\left[ 1 -  i x \\Delta \\varphi \\hat p_y  / \\hbar \\right]\n",
    "\\right)\n",
    "|x, y \\rangle \\\\\n",
    "&\\approx\n",
    "\\left( 1\n",
    "-  i \\left[ x \\otimes \\hat p_y \\right] \\Delta \\varphi / \\hbar\n",
    "+  i \\left[ \\hat p_x \\otimes y \\right] \\Delta \\varphi / \\hbar\n",
    "+ \\mathcal{O}(\\Delta \\varphi^2)\n",
    "\\right)\n",
    "|x, y \\rangle\n",
    "\\end{aligned}\n",
    "$$"
   ]
  },
  {
   "cell_type": "markdown",
   "id": "b24732eb-25b5-47f7-b342-3d25e62d8b47",
   "metadata": {},
   "source": [
    "The scalars $x$ and $y$ in the expression are just the eigenvalues for the localized\n",
    "state $\\vert x, y \\rangle$ so we can insert the position operators\n",
    "\n",
    "$$\n",
    "|\\tilde x, \\tilde y \\rangle  \\approx\n",
    "\\left(\n",
    "1 - i\\left[\n",
    "\\hat x \\otimes \\hat p_y - \\hat p_x \\otimes \\hat y\n",
    "\\right] \\Delta \\varphi / \\hbar\n",
    "\\right)\n",
    "|x, y \\rangle\n",
    "$$\n",
    "(Ignoring terms $\\mathcal{O}(\\Delta \\varphi^2)$ for small $\\Delta \\varphi$)"
   ]
  },
  {
   "cell_type": "markdown",
   "id": "5fbbd59d-31b8-4155-9a82-f3cef1a31815",
   "metadata": {},
   "source": [
    "The inner operator is the [*angular momentum* operator](https://en.wikipedia.org/wiki/Angular_momentum_operator) (for the $xy$-plane)\n",
    "\n",
    "$$\n",
    "\\boxed{\n",
    "\\hat L = \\hat x \\otimes \\hat p_y - \\hat p_x \\otimes \\hat y\n",
    "}\n",
    "$$\n",
    "\n",
    "with this\n",
    "\n",
    "$$\n",
    "|\\tilde x, \\tilde y \\rangle  \\approx\n",
    "\\left(\n",
    "1 - i \\hat L \\Delta \\varphi / \\hbar\n",
    "\\right)\n",
    "|x, y \\rangle \\, .\n",
    "$$\n",
    "\n",
    "As the position and momentum operators are Hermitian, so is $\\hat L$, which makes sense as the angular momentum\n",
    "is an observable."
   ]
  },
  {
   "cell_type": "markdown",
   "id": "8c5620a5-4948-4d9b-b6d7-ccfa5e09f145",
   "metadata": {},
   "source": [
    "The derivation above was done for a localized wavefunction at $(x, y)$. By using \n",
    "the position basis for $x$ and $y$, we can imagine every wavefunction as a combination of localized wavefunctions, \n",
    "$\\vert \\psi \\rangle = \\int \\psi(x,y) \\vert x, y\\rangle dx dy$. Operators in quantum mechanics are *linear* operators,\n",
    "so if $\\hat L$ can be used to rotate $\\vert x, y \\rangle$ so it can be used for a linear \n",
    "combination of position space vectors. So the infinitesimally rotated wavefunction $\\vert \\tilde \\psi \\rangle$ is\n",
    "\n",
    "$$\n",
    "|\\tilde \\psi \\rangle  \\approx\n",
    "\\left(\n",
    "1 - i \\hat L \\Delta \\varphi / \\hbar\n",
    "\\right)\n",
    "| \\psi \\rangle \\, .\n",
    "$$"
   ]
  },
  {
   "cell_type": "markdown",
   "id": "dfa1e308-9a00-45d2-ad5e-addbf4b2520e",
   "metadata": {},
   "source": [
    "Now, just like we did for the [translation operator](https://znswanderer.github.io/physics/Momentum-Operator/),\n",
    "we can model a non-infinitesimal rotation as a repeated rotation by infinitesimal amounts and in the limit get the\n",
    "rotation operator\n",
    "\n",
    "$$\n",
    "\\hat U_{\\Delta \\varphi} = \\exp (-i \\Delta \\varphi \\hat L / \\hbar ) \\, .\n",
    "$$"
   ]
  },
  {
   "cell_type": "markdown",
   "id": "15d85ce8-98dc-41b9-b28e-9d7632c3a0e0",
   "metadata": {},
   "source": [
    "## Spin\n",
    "\n",
    "In quantum mechanics we find something, that has no classical counterpart. There is a notion of an internal degree\n",
    "of freedom called *spin*. The complete [generator of rotation](https://en.wikipedia.org/wiki/Angular_momentum_operator#Angular_momentum_as_the_generator_of_rotations) is\n",
    "\n",
    "$$\n",
    "\\hat J = \\hat L + \\hat S\n",
    "$$\n",
    "\n",
    "which includes the contribution, $\\hat S$, due to spin. In the following we will ignore spin.\n"
   ]
  },
  {
   "cell_type": "markdown",
   "id": "4b228504-34b5-49e3-bf6f-d298527cc6e1",
   "metadata": {},
   "source": [
    "## Angular Momentum in polar coordinates\n",
    "\n",
    "In position space the operator of angular momentum becomes\n",
    "\n",
    "$$\n",
    "\\hat L \\psi(x, y) = -i \\hbar \\left( x \\frac{\\partial}{\\partial y} - y \\frac{\\partial}{\\partial x} \\right) \\psi(x,y)\n",
    "$$\n",
    "\n",
    "In polar coordinates we have\n",
    "\n",
    "$$\n",
    "\\begin{align}\n",
    "x &= r \\cos \\varphi \\\\\n",
    "y &= r \\sin \\varphi \\, .\n",
    "\\end{align}\n",
    "$$\n",
    "\n",
    "Changing the variables for the differentiation we have to find\n",
    "\n",
    "$$\n",
    "\\begin{align}\n",
    "\\frac{\\partial}{\\partial x} &= \\frac{\\partial r}{\\partial x} \\frac{1}{\\partial r} \n",
    "                                + \\frac{\\partial \\varphi}{\\partial x} \\frac{1}{\\partial \\varphi} \\\\\n",
    "\\frac{\\partial}{\\partial y} &= \\frac{\\partial r}{\\partial y} \\frac{1}{\\partial r} \n",
    "                                + \\frac{\\partial \\varphi}{\\partial y} \\frac{1}{\\partial \\varphi} \\, .\n",
    "\\end{align}\n",
    "$$\n",
    "\n",
    "After some calculation we find\n",
    "\n",
    "$$\n",
    "\\begin{align}\n",
    "\\frac{\\partial r}{\\partial x} = \\cos \\varphi    \\qquad \\qquad   &\\frac{\\partial \\varphi}{\\partial x} = - \\frac{\\sin \\varphi}{r} &\\\\\n",
    "\\frac{\\partial r}{\\partial y} = \\sin \\varphi    \\qquad \\qquad   &\\frac{\\partial \\varphi}{\\partial y} =  \\frac{\\cos \\varphi}{r} &\n",
    "\\end{align}\n",
    "$$"
   ]
  },
  {
   "cell_type": "markdown",
   "id": "eb4c46d6-7e7d-4a19-9ef2-f1bc08b463eb",
   "metadata": {},
   "source": [
    "Inserting these terms into the equation for $\\hat L$ in the cartesian coordinates this gives\n",
    "\n",
    "$$\n",
    "\\hat L \\psi(r, \\varphi) = - i \\hbar \\frac{\\partial}{\\partial \\varphi} \\psi(r, \\varphi) \\, ,\n",
    "$$\n",
    "because the terms involving $\\partial_r$ cancel each other out. So only the dependency on the angle\n",
    "defines the angular momentum."
   ]
  },
  {
   "cell_type": "markdown",
   "id": "47d61ee4-4a54-40d2-9f97-c1a5ddd3d926",
   "metadata": {},
   "source": [
    "### Rotational symmetry and Eigenvalues\n",
    "\n",
    "Suppose we have an eigenstate of the angular momentum operator\n",
    "\n",
    "$$\n",
    "\\hat L |\\phi \\rangle = \\lambda |\\phi \\rangle \\, .\n",
    "$$\n",
    "\n",
    "As $\\hat L$ is Hermitian the eigenvalue is reel, $\\lambda \\in \\mathbb{R}$.\n",
    "\n",
    "If we rotate the eigenstate we find\n",
    "\n",
    "$$\n",
    "|\\tilde \\phi \\rangle = \\hat U_{\\Delta \\varphi} |\\phi \\rangle = e^{-i \\Delta \\varphi \\hat L / \\hbar} |\\phi\\rangle = e^{-i \\lambda \\Delta \\varphi} |\\phi\\rangle \\, .\n",
    "$$\n",
    "\n",
    "So the rotation results only in a constant unitary factor\n",
    "and the probabiltity densitiy of the eigenstate is unchanged by the rotation:\n",
    "\n",
    "$$\n",
    "\\langle \\tilde \\phi | \\tilde \\phi \\rangle = \\langle \\phi | \\phi \\rangle \\, ,\n",
    "$$\n",
    "\n",
    "which means, that the probability densitiy of these states does not depend on the angle."
   ]
  },
  {
   "cell_type": "markdown",
   "id": "ae77d365-c397-4a13-bbd4-97adaf02104a",
   "metadata": {},
   "source": [
    "States, that have a rotational symmetry in the density w.r.t. the origin have\n",
    "no dependency on $\\varphi$ in the probability density:\n",
    "\n",
    "$$\n",
    "|\\psi(r, \\varphi)|^2 = |\\psi(r)|^2\n",
    "$$\n",
    "\n",
    "\n",
    "such states can be described by the product\n",
    "\n",
    "$$\n",
    "\\psi(r, \\varphi) = \\rho(r) e^{i m \\varphi} \\, .\n",
    "$$\n",
    "\n",
    "As $\\psi(r, \\varphi)$ must be continuous, that means $\\psi(r, \\varphi + 2\\pi) = \\psi(r, \\varphi)$,\n",
    "it follows\n",
    "\n",
    "$$\n",
    "e^{2 i  m \\pi} = 1\n",
    "$$\n",
    "\n",
    "so we have the allowed values $m \\in \\mathbb{Z}$."
   ]
  },
  {
   "cell_type": "markdown",
   "id": "78871469-0731-4033-ac19-a4d675aeaf4c",
   "metadata": {},
   "source": [
    "With the operator of angular momentum in polar coordinates it is easy to see, that these rotational symmetric \n",
    "functions are also eigenfunctions of $\\hat L$:\n",
    "\n",
    "$$\n",
    "\\hat L  e^{i m \\varphi} = - i  \\hbar \\frac{\\partial}{\\partial \\varphi} e^{i m \\varphi} = m\\hbar e^{i m \\varphi} \\, .\n",
    "$$\n",
    "\n",
    "So we found eigenfunctions of $\\hat L$ with the eigenvalues $\\lambda_m = m \\hbar$."
   ]
  },
  {
   "cell_type": "markdown",
   "id": "8b40ccc0-ff5b-410f-9b68-51a1cf609cc1",
   "metadata": {},
   "source": [
    "### Problematic Eigendecomposition and Schrödinger-like differential equation\n",
    "\n",
    "The angular momentum operator only acts on the dimension of the wave function, that is connected\n",
    "to the polar angle $\\varphi$. That means, that we can have two wave functions, $\\psi_1(r, \\varphi) = \\rho_1(r) e^{im\\varphi}$\n",
    "and $\\psi_2(r, \\varphi) = \\rho_2(r) e^{im\\varphi}$, that are eigenstates of $\\hat L$ with eigenvalue $m$, but with\n",
    "different radial dependency $\\rho_1(r) \\neq \\rho_2(r)$. Therefore we cannot use the eigenstates of the angular momentum alone \n",
    "to construct the identity matrix\n",
    "\n",
    "$$\n",
    "\\mathbf{1} \\neq \\sum_m |m\\rangle \\langle m | \\, ,\n",
    "$$\n",
    "\n",
    "but we need additional \"information\" about a quantum state, for example an energy eigenstate \n",
    "$\\hat H \\vert n \\rangle = E_n \\vert n \\rangle$ (if the Hamiltonian has rotational symmetry). \n",
    "A sufficient set of eigenvalues for describing a quantum state uniquely is called a \n",
    "[complete set of commuting variables](https://en.wikipedia.org/wiki/Complete_set_of_commuting_observables)."
   ]
  },
  {
   "cell_type": "markdown",
   "id": "6b5f5021-e2be-4daa-bde4-63e64fab6d26",
   "metadata": {},
   "source": [
    "Having no complete basis involving the angular momentum operator, we cannot use the eigendecomposition \n",
    "of $e^{-i \\Delta \\varphi \\hat L / \\hbar}$ like we did in the [last post](https://znswanderer.github.io/physics/Momentum-Operator/)\n",
    "for the spatial translation. But there is another way to use the angular momentum operator for a rotation operation.\n",
    "We can describe the rotation of a state $\\vert \\psi_0 \\rangle$ as a continuous process w.r.t. the angle $\\varphi$:\n",
    "\n",
    "$$\n",
    "|\\psi_\\varphi \\rangle = e^{-i \\varphi \\hat L / \\hbar} |\\psi_0 \\rangle \\, .\n",
    "$$\n",
    "\n",
    "Now we can differentiate by $\\varphi$ and get\n",
    "\n",
    "$$\n",
    "\\frac{d}{d \\varphi} |\\psi_\\varphi \\rangle = \\frac{-i \\hat L}{\\hbar} e^{-i \\varphi \\hat L / \\hbar} |\\psi_0 \\rangle\n",
    "$$\n",
    "\n",
    "which can be written as\n",
    "\n",
    "$$\n",
    "\\boxed{\n",
    "i \\hbar \\frac{d}{d \\varphi} \\vert \\psi_\\varphi \\rangle= \\hat L \\vert \\psi_\\varphi \\rangle\n",
    "}\n",
    "$$\n",
    "\n",
    "This really looks like the time dependent Schrödinger equation and it becomes more evident, why $\\hat L$ is called\n",
    "the *generator* of rotation. On the practical side we can use this diffential equation as the starting point for a numerical integration,\n",
    "which will be done in the code example."
   ]
  },
  {
   "cell_type": "markdown",
   "id": "3880ee98-215f-4671-b90f-a9210a4e9b3a",
   "metadata": {},
   "source": [
    "# Code example\n",
    "\n",
    "In the post [Quantum Systems in two Spatial Dimensions](https://znswanderer.github.io/physics/2d-Quantum-Systems/)\n",
    "we have described how to construct a two dimensional system:"
   ]
  },
  {
   "cell_type": "code",
   "execution_count": 1,
   "id": "6145c10a-c949-4711-ad9b-f7fccaaec70f",
   "metadata": {},
   "outputs": [],
   "source": [
    "import numpy as np\n",
    "from types import SimpleNamespace\n",
    "from scipy import integrate, sparse\n",
    "import matplotlib.pyplot as plt\n",
    "from IPython.display import Video\n",
    "\n",
    "def make_2d_box(N, L=2):\n",
    "    L = L\n",
    "    hbar = 1\n",
    "    mass = 1\n",
    "    x = np.linspace(-L/2, L/2, N)\n",
    "    y = np.linspace(-L/2, L/2, N)\n",
    "    dx = np.diff(x)[0]\n",
    "    One = sparse.eye(N)\n",
    "\n",
    "    return SimpleNamespace(**locals())\n",
    "\n",
    "box = make_2d_box(N=300)"
   ]
  },
  {
   "cell_type": "markdown",
   "id": "e8040516-b527-456d-8dba-d9badce4fd62",
   "metadata": {},
   "source": [
    "For the momentum operator in the definition of the angular momentum we will use the central difference operator:\n",
    "\n",
    "$$\n",
    "\\frac{d}{dx} f(x) = \\frac{1}{2 \\Delta x} \\left( f(x + \\Delta x) - f(x - \\Delta x) \\right) + \\mathcal{O}({\\Delta x}^3)\n",
    "$$"
   ]
  },
  {
   "cell_type": "code",
   "execution_count": 2,
   "id": "d9f7ec2f-725b-4e46-9ef1-16f862b68bf3",
   "metadata": {},
   "outputs": [],
   "source": [
    "def angular_momentum(box):\n",
    "    x_op = sparse.kron(sparse.diags([box.x], [0]), box.One)\n",
    "    y_op = sparse.kron(box.One, sparse.diags([box.y], [0]))\n",
    "    D_s_op = sparse.diags([-1, 1], [-1, 1], shape=(box.N, box.N)) / (2*box.dx)\n",
    "    p_op = - 1j * box.hbar * D_s_op\n",
    "    px_op = sparse.kron(p_op, box.One)\n",
    "    py_op = sparse.kron(box.One, p_op)\n",
    "    L_op = x_op @ py_op - px_op @ y_op\n",
    "    return L_op\n",
    "\n",
    "L_op = angular_momentum(box)"
   ]
  },
  {
   "cell_type": "markdown",
   "id": "6d84d1b3-245b-42ca-b282-5d1f8064a21e",
   "metadata": {},
   "source": [
    "Let's use a gaussian wave packet at $x_0 = 0.5$ and $y_0 = 0$ for the \"rotation experiment\""
   ]
  },
  {
   "cell_type": "code",
   "execution_count": 3,
   "id": "b4e2bb3d-073b-472c-88de-899b4f10fdb8",
   "metadata": {
    "tags": [
     "remove_cell"
    ]
   },
   "outputs": [],
   "source": [
    "plt.rcParams['figure.dpi'] = 300\n",
    "plt.style.use(['science', 'notebook', 'grid', 'vibrant'])\n",
    "plt.rcParams.update({\"axes.grid\" : True, \"grid.color\": \"lightgreen\"})\n",
    "%matplotlib inline\n",
    "%config InlineBackend.figure_format = 'retina'"
   ]
  },
  {
   "cell_type": "code",
   "execution_count": 4,
   "id": "d74ef8fa-d8cd-4f32-9f23-9d2c1ff52bd0",
   "metadata": {},
   "outputs": [
    {
     "data": {
      "image/png": "[encoded data removed]",
      "text/plain": [
       "<Figure size 432x288 with 1 Axes>"
      ]
     },
     "metadata": {
      "image/png": {
       "height": 249,
       "width": 279
      },
      "needs_background": "light"
     },
     "output_type": "display_data"
    }
   ],
   "source": [
    "sigma = 0.1\n",
    "gauss = 1j * np.kron(np.exp(-(box.y)**2/sigma), np.exp(-(box.x-0.5)**2/sigma))\n",
    "gauss_2d = np.reshape(gauss, (box.N, box.N))\n",
    "plt.imshow(np.abs(gauss_2d)**2, extent=[box.x[0], box.x[-1], box.y[0], box.y[-1]], cmap='gnuplot2');"
   ]
  },
  {
   "cell_type": "markdown",
   "id": "6d5508b2-9fcd-4691-be09-9aa3e5d5e9a8",
   "metadata": {},
   "source": [
    "The $\\varphi$ integration will be done using the `scipy.integrate.solve_ivp` function, just like\n",
    "we did for the time integration in a [previous post](https://znswanderer.github.io/physics/Time-Evolution/)."
   ]
  },
  {
   "cell_type": "code",
   "execution_count": 5,
   "id": "334e2a22-20e9-4ee7-9460-c3ebbbb2dc62",
   "metadata": {},
   "outputs": [],
   "source": [
    "phi_eval = np.linspace(0, 2*np.pi, 201)\n",
    "sol = integrate.solve_ivp(lambda phi, psi: (-1j / box.hbar) * (L_op @ psi), \n",
    "                          t_span = [phi_eval[0], phi_eval[-1]], y0 = gauss, t_eval = phi_eval, method=\"RK23\")"
   ]
  },
  {
   "cell_type": "markdown",
   "id": "3ff409c1-880c-47ce-a949-044bcf372bb6",
   "metadata": {},
   "source": [
    "(The class WaveAnimation can be found in the notebook)"
   ]
  },
  {
   "cell_type": "code",
   "execution_count": 6,
   "id": "edfcfdc9-5260-40b1-9bad-ed46cfc235f2",
   "metadata": {
    "tags": [
     "remove_cell"
    ]
   },
   "outputs": [],
   "source": [
    "from matplotlib import animation\n",
    "\n",
    "class WaveAnimation:\n",
    "    def __init__(self, psi_t, t_vec, box, cmap='gnuplot2'):\n",
    "        self.extent = [box.x[0], box.x[-1], box.y[0], box.y[-1]]\n",
    "        self.N = box.N\n",
    "        self.psi_t = psi_t\n",
    "        self.t_vec = t_vec\n",
    "        self.fig = plt.figure(figsize=(6,4))\n",
    "        self.ax1 = ax1 = plt.subplot(1,1,1)\n",
    "        self.cmap = cmap\n",
    "        self.image = ax1.imshow(np.abs(np.reshape(psi_t[:,0], (self.N, self.N)))**2, extent=self.extent, cmap=self.cmap)\n",
    "\n",
    "    def init_anmimation(self):\n",
    "        self.image.set_data(np.abs(np.reshape(self.psi_t[:,0], (self.N, self.N)))**2)\n",
    "        return self.image,\n",
    "\n",
    "    def get_frame(self, i):\n",
    "        self.image.set_data(np.abs(np.reshape(self.psi_t[:,i], (self.N, self.N)))**2)\n",
    "        return self.image,\n",
    "    \n",
    "    def animation(self):\n",
    "        anim = animation.FuncAnimation(self.fig, self.get_frame, init_func=self.init_anmimation,\n",
    "                                       frames=len(self.t_vec), interval=50, blit=True)\n",
    "        return anim\n",
    "    \n",
    "    def save_mp4(self, filename):\n",
    "        ffwriter = animation.FFMpegWriter(fps=20, extra_args=['-vcodec', 'libx264'])\n",
    "        anim = self.animation()\n",
    "        anim.save(filename, dpi=300, writer=ffwriter)\n",
    "        plt.close()   # to prevent the last frame from showing in notebook"
   ]
  },
  {
   "cell_type": "code",
   "execution_count": 7,
   "id": "0fa4c6af-82c2-45b5-83f9-906d14094dba",
   "metadata": {},
   "outputs": [
    {
     "data": {
      "text/html": [
       "<video src=\"gauss_rotated.mp4\" controls  width=\"600\" >\n",
       "      Your browser does not support the <code>video</code> element.\n",
       "    </video>"
      ],
      "text/plain": [
       "<IPython.core.display.Video object>"
      ]
     },
     "execution_count": 7,
     "metadata": {},
     "output_type": "execute_result"
    }
   ],
   "source": [
    "WaveAnimation(psi_t=sol.y, t_vec=sol.t, box=box).save_mp4('gauss_rotated.mp4')\n",
    "Video('gauss_rotated.mp4', width=600)"
   ]
  },
  {
   "cell_type": "markdown",
   "id": "6335aea1-abbd-4020-8681-3b6cd439b3c6",
   "metadata": {},
   "source": [
    "# Epilog"
   ]
  },
  {
   "cell_type": "markdown",
   "id": "2fe2bdfc-e539-40cf-90e2-e10c82d03fd3",
   "metadata": {},
   "source": [
    "Moving a state through time, translating a distance or rotating by an angle,\n",
    "are similar transformations, that can be described by\n",
    "different kind of \"Schrödinger equations\".\n",
    "For example, in a translation of $x$ we have:\n",
    "\n",
    "$$\n",
    "|\\psi_x\\rangle = e^{-i x \\hat p / \\hbar} |\\psi_0 \\rangle\n",
    "$$\n",
    "\n",
    "Note that this is not the position space wave function $\\psi(x)$, but the ket-vector of the state\n",
    "$\\vert \\psi_0 \\rangle$ shifted by an amount of $x$. The variable $x$ is not the dimesion in space, but\n",
    "the (scalar) shift along this direction.\n",
    "\n",
    "If we differentiate by $x$ we get\n",
    "\n",
    "$$\n",
    "\\frac{d}{dx} |\\psi_x \\rangle = -\\frac{i \\hat p}{\\hbar} e^{-i x \\hat p / \\hbar} |\\psi_0 \\rangle\n",
    "= -\\frac{i \\hat p}{\\hbar} |\\psi_x \\rangle\n",
    "$$\n",
    "\n",
    "We find similar Schrödinger-like differential equations for different operations:\n",
    "\n",
    "| Operation |  |\n",
    "|------|------|\n",
    "| Shift in Time  | $i \\hbar \\frac{d}{dt} \\vert \\psi_t \\rangle = \\hat H \\vert \\psi_t \\rangle$ |\n",
    "| Translation  | $i \\hbar \\frac{d}{dx} \\vert \\psi_x \\rangle= \\hat p \\vert \\psi_x \\rangle$ |\n",
    "| Rotation  | $i \\hbar \\frac{d}{d \\varphi} \\vert \\psi_\\varphi \\rangle= \\hat L \\vert \\psi_\\varphi \\rangle$ |\n"
   ]
  }
 ],
 "metadata": {
  "kernelspec": {
   "display_name": "Python 3 (ipykernel)",
   "language": "python",
   "name": "python3"
  },
  "language_info": {
   "codemirror_mode": {
    "name": "ipython",
    "version": 3
   },
   "file_extension": ".py",
   "mimetype": "text/x-python",
   "name": "python",
   "nbconvert_exporter": "python",
   "pygments_lexer": "ipython3",
   "version": "3.8.13"
  }
 },
 "nbformat": 4,
 "nbformat_minor": 5
}
