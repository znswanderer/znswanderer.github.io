{
 "cells": [
  {
   "cell_type": "raw",
   "id": "27809c26-2ea6-4956-952b-524f5ce6fe2f",
   "metadata": {},
   "source": [
    "---\n",
    "layout: post\n",
    "title:  \"Short Note regarding Commutators in Finite Dimensions\"\n",
    "date:   2021-08-01\n",
    "categories: Physics\n",
    "tags:   [Quantum Mechanics, Commutators, Discretization of Space]\n",
    "---"
   ]
  },
  {
   "cell_type": "markdown",
   "id": "6c617b5b-eb6c-445e-887c-6bc6c2c6243a",
   "metadata": {},
   "source": [
    "[Last time][last] we started the study of quantum mechanics in discretized space. In this blog post\n",
    "I will take a very short look at what this means for non-commuting operators.\n",
    "\n",
    "[last]: https://znswanderer.github.io/physics/Discrete/"
   ]
  },
  {
   "cell_type": "raw",
   "id": "86e08f16-ec29-4250-8b09-c999b0282152",
   "metadata": {},
   "source": [
    "\n",
    "<!--more-->\n"
   ]
  },
  {
   "cell_type": "markdown",
   "id": "f44bb7d3-2635-4f99-b9ef-c87957a1303b",
   "metadata": {},
   "source": [
    "If we express an operator in its discretized eigenbasis, like the position operator\n",
    "in the discrete position space, this operator will be *diagonal*:\n",
    "\n",
    "$$\n",
    "X = \\Delta x\n",
    "\\begin{pmatrix} \n",
    "0 & 0 & 0 & 0 & 0 \\\\\n",
    "0 & 1 & 0 & 0 & 0 \\\\\n",
    "0 & 0 & 2 & 0 & 0 \\\\\n",
    "0 & 0 & 0 & 3 & 0 \\\\\n",
    "0 & 0 & 0 & 0 & 4  \n",
    "\\end{pmatrix}\n",
    "+ x_0 \\cdot \\textbf{1} \n",
    "$$\n",
    "\n",
    "where $x_0$ is just the origin of our box of size $L$ and $\\Delta x = L / N$ with $N$ the size\n",
    "of the discretization (in the example above we have $N=5$).\n",
    "\n",
    "The canonical conjugate momentum is not diagonal in the position basis. In the last post\n",
    "we have seen two versions of the momentum operator:\n",
    "\n",
    "\n",
    "$$\n",
    "P_+ =\n",
    "- \\frac{i \\hbar}{\\Delta x}\n",
    "\\begin{pmatrix}\n",
    "-1 & 1 & 0 & 0 &  0 \\\\\n",
    "0 & -1 & 1 & 0 &  0 \\\\\n",
    "0 & 0 & -1 & 1 &  0 \\\\\n",
    "0 & 0 & 0 & -1 & 1  \\\\\n",
    "0 & 0 & 0 & 0 & -1  \n",
    "\\end{pmatrix}\n",
    "$$\n",
    "\n",
    "for the forward difference and one for the backward difference:\n",
    "\n",
    "$$\n",
    "P_- = \n",
    "- \\frac{i \\hbar}{\\Delta x}\n",
    "\\begin{pmatrix}\n",
    "1 & 0 & 0 & 0 &  0 \\\\\n",
    "-1 & 1 & 0 & 0 &  0 \\\\\n",
    "0 & -1 & 1 & 0 &  0 \\\\\n",
    "0 & 0 & -1 & 1 & 0  \\\\\n",
    "0 & 0 & 0 & -1 & 1  \n",
    "\\end{pmatrix}\n",
    "$$\n",
    "\n",
    "Clearly neither of them is purely diagonal.\n",
    "\n",
    "\n",
    "\n"
   ]
  },
  {
   "cell_type": "markdown",
   "id": "17a6b262-02c3-4eec-b74e-faec68250bb9",
   "metadata": {},
   "source": [
    "This problem is at the very heart of of quantum mechanics. Two non-commuting \n",
    "operators do not share a common eigenbasis and therefore they can not be\n",
    "diagonal at the same time. (A proof\n",
    "for the inverse of this argument, that if operators $\\hat A$ and $\\hat B$ share \n",
    "a basis it follows that $[\\hat A, \\hat B] = 0$, can be found on [wikipedia][commuting].\n",
    "The proof, that if $[\\hat A, \\hat B] \\neq 0$ both cannot be diagonal for a common\n",
    "basis, can be made along the same lines.)\n",
    "\n",
    "[commuting]: https://en.wikipedia.org/wiki/Complete_set_of_commuting_observables#Proofs"
   ]
  },
  {
   "cell_type": "markdown",
   "id": "f484b1d6-ade8-4638-9a44-5d1f7ee896d6",
   "metadata": {},
   "source": [
    "The fact, that these two operators can not be diagonal at the same time implies, that\n",
    "these operators do not commute. But if we now take a look at the commutator\n",
    "in a discrete space, we find something interesting.\n",
    "\n",
    "The canonical commutation relation for the momentum and position operator is\n",
    "\n",
    "$$\n",
    "[\\hat x, \\hat p] = i \\hbar \\, .\n",
    "$$\n",
    "\n",
    "So if we calculate the commutator for the matrix representation we would expect something like\n",
    "\n",
    "$$\n",
    "[X, P_\\pm] = i \\hbar \\textbf{1}\n",
    "$$\n",
    "\n",
    "where $\\textbf{1}$ is the unit matrix.\n",
    "\n",
    "Let's check this using SymPy!"
   ]
  },
  {
   "cell_type": "code",
   "execution_count": 8,
   "id": "7e759612-bbaa-480e-8cbd-f4e945d30397",
   "metadata": {},
   "outputs": [],
   "source": [
    "from sympy import symbols, I, simplify\n",
    "from sympy.matrices import Matrix, eye\n",
    "\n",
    "dx, x0 = symbols(r'\\Delta{x} x_0')\n",
    "N = 5\n",
    "hbar = 1\n",
    "\n",
    "def x_op(n, m):\n",
    "    # this is the kronecker delta\n",
    "    if n == m:\n",
    "        return m\n",
    "    else:\n",
    "        return 0\n",
    "    \n",
    "def p_fwd(n, m):\n",
    "    if n == m:\n",
    "        return -1\n",
    "    elif n+1 == m:\n",
    "        return 1\n",
    "    else:\n",
    "        return 0\n",
    "\n",
    "def p_bwd(n, m):\n",
    "    if n == m:\n",
    "        return -1\n",
    "    elif n-1 == m:\n",
    "        return 1\n",
    "    else:\n",
    "        return 0\n",
    "\n",
    "P_f = -I * hbar * Matrix(N, N, p_fwd) / dx\n",
    "P_b = -I * hbar * Matrix(N, N, p_bwd) / dx\n",
    "X = dx * Matrix(N, N, x_op) + x0 * eye(N)"
   ]
  },
  {
   "cell_type": "markdown",
   "id": "cb275788-55f5-4fd3-a736-15e16eec0b58",
   "metadata": {},
   "source": [
    "We can now examine the commutators, first $[X, P_+]$:"
   ]
  },
  {
   "cell_type": "code",
   "execution_count": 9,
   "id": "060a8c25-c26e-4e5b-949b-5ac8e4718de6",
   "metadata": {},
   "outputs": [
    {
     "data": {
      "text/latex": [
       "$\\displaystyle \\left[\\begin{matrix}0 & i & 0 & 0 & 0\\\\0 & 0 & i & 0 & 0\\\\0 & 0 & 0 & i & 0\\\\0 & 0 & 0 & 0 & i\\\\0 & 0 & 0 & 0 & 0\\end{matrix}\\right]$"
      ],
      "text/plain": [
       "Matrix([\n",
       "[0, I, 0, 0, 0],\n",
       "[0, 0, I, 0, 0],\n",
       "[0, 0, 0, I, 0],\n",
       "[0, 0, 0, 0, I],\n",
       "[0, 0, 0, 0, 0]])"
      ]
     },
     "execution_count": 9,
     "metadata": {},
     "output_type": "execute_result"
    }
   ],
   "source": [
    "simplify(X @ P_f - P_f @ X)"
   ]
  },
  {
   "cell_type": "markdown",
   "id": "d7cdf55a-6649-4775-b4d8-745c5ab34b54",
   "metadata": {},
   "source": [
    "and then $[X, P_-]$:"
   ]
  },
  {
   "cell_type": "code",
   "execution_count": 10,
   "id": "77a71c7d-9efd-477a-8b0c-d70982315d74",
   "metadata": {},
   "outputs": [
    {
     "data": {
      "text/latex": [
       "$\\displaystyle \\left[\\begin{matrix}0 & 0 & 0 & 0 & 0\\\\- i & 0 & 0 & 0 & 0\\\\0 & - i & 0 & 0 & 0\\\\0 & 0 & - i & 0 & 0\\\\0 & 0 & 0 & - i & 0\\end{matrix}\\right]$"
      ],
      "text/plain": [
       "Matrix([\n",
       "[ 0,  0,  0,  0, 0],\n",
       "[-I,  0,  0,  0, 0],\n",
       "[ 0, -I,  0,  0, 0],\n",
       "[ 0,  0, -I,  0, 0],\n",
       "[ 0,  0,  0, -I, 0]])"
      ]
     },
     "execution_count": 10,
     "metadata": {},
     "output_type": "execute_result"
    }
   ],
   "source": [
    "simplify(X @ P_b - P_b @ X)"
   ]
  },
  {
   "cell_type": "markdown",
   "id": "2b08ec37-1f08-401b-9965-6b5aa7631b85",
   "metadata": {},
   "source": [
    "As one can see, neither of the commutators is equal to $i\\hbar \\textbf{1}$. The diagonal is empty for both commutators. \n",
    "This means, that the trace of both commutators is $0$. \n",
    "\n",
    "This is not a consequence of\n",
    "the specific form of the momentum operators we have chosen, but is valid for all\n",
    "matrices in finite dimensional spaces, because for\n",
    "every two matrices $A$ and $B$ the following holds:\n",
    "\n",
    "$$\n",
    "\\textrm{Tr}(AB) = \\textrm{Tr}(BA)\n",
    "$$\n",
    "\n",
    "and with $\\textrm{Tr}(C + D) = \\textrm{Tr}\\,C + \\textrm{Tr}\\,D$ it follows\n",
    "\n",
    "$$\n",
    "\\textrm{Tr}[A,B] = 0\n",
    "$$\n",
    "\n",
    "This is rather interesting. Here Weinberg\n",
    "notes:\n",
    "\n",
    "> The trace of the unit operator $\\textbf{1}$ is just $\\sum_i 1$, which is the\n",
    "> dimensionality of the Hilbert space, and hence is not defined in Hilbert\n",
    "> spaces of infinite dimensionality. Note in particular that in a space of\n",
    "> finite dimensionality the trace of the commutation relation $[X, P] = i \\hbar \\textbf{1}$\n",
    "> would give the contradictory result $0 = i \\hbar \\textrm{Tr}\\, \\textbf{1}$, so this\n",
    "> commutation relation can only be realized in Hilbert spaces of infinite dimensionality, \n",
    "> where the traces do not exist.  \n",
    "> Steven Weinberg, *Lectures on Quantum Mechanics*, 1st edition, § 3.3 Observables, pg. 67\n",
    "\n",
    "So the \"correct\" commutation relation $[\\hat x, \\hat p] = i \\hbar$ can only be realized in\n",
    "the continuum.\n",
    "But the non-commuting nature of the operators is still there in an approximation, \n",
    "because the non-zero diagonals in $[X, P_\\pm]$ are direct neighbours of the main diagonal.\n",
    "For large $N$ the difference from the main diagonal can be made as small as needed."
   ]
  }
 ],
 "metadata": {
  "kernelspec": {
   "display_name": "Python 3",
   "language": "python",
   "name": "python3"
  },
  "language_info": {
   "codemirror_mode": {
    "name": "ipython",
    "version": 3
   },
   "file_extension": ".py",
   "mimetype": "text/x-python",
   "name": "python",
   "nbconvert_exporter": "python",
   "pygments_lexer": "ipython3",
   "version": "3.8.8"
  }
 },
 "nbformat": 4,
 "nbformat_minor": 5
}
