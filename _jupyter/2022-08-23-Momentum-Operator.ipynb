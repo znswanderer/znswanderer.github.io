{
 "cells": [
  {
   "cell_type": "raw",
   "id": "9ddaf705-8bfd-413f-ae67-e0ab89d8ed24",
   "metadata": {},
   "source": [
    "---\n",
    "layout: post\n",
    "title:  \"The Momentum Operator as Generator of Space Translation\"\n",
    "date:   2022-08-23\n",
    "categories: Physics\n",
    "tags:   [Quantum Mechanics]\n",
    "---"
   ]
  },
  {
   "cell_type": "markdown",
   "id": "b90464d7-7ddb-4aec-93fc-5d96f48b1a89",
   "metadata": {},
   "source": [
    "We take a look at an operation, which translates a state, represented by a wave function $\\psi(x)$ in position space,\n",
    "by an amount $\\Delta x$. The new state is then represented by the wave function $\\tilde \\psi(x)$.\n",
    "\n",
    "![Image](psi_trans_aug2022.png)"
   ]
  },
  {
   "cell_type": "raw",
   "id": "d54c5520-75fb-445d-9033-f788e1928a62",
   "metadata": {},
   "source": [
    "\n",
    "<!--more-->\n"
   ]
  },
  {
   "cell_type": "markdown",
   "id": "f23db1be-1b99-43e1-9798-8ce624b7cbc6",
   "metadata": {},
   "source": [
    "This operation shall be described by the operator $\\hat U_{\\Delta x}$:\n",
    "\n",
    "$$\n",
    "\\tilde \\psi(x) = \\hat U_{\\Delta x} \\psi (x) \\, .\n",
    "$$\n",
    "\n",
    "We can relate both functions by noting, that\n",
    "\n",
    "$$\n",
    "\\tilde \\psi(x) = \\psi (x - \\Delta x) \\, .\n",
    "$$"
   ]
  },
  {
   "cell_type": "markdown",
   "id": "2daaeb09-ef74-41c6-b467-8682d59c2ed1",
   "metadata": {},
   "source": [
    "For small $\\Delta x$ we can construct the shifted function by using derivative\n",
    "\n",
    "$$\n",
    "\\psi (x - \\Delta x) \\approx \\psi (x) - \\Delta x \\frac{\\partial}{\\partial x} \\psi(x)\n",
    "$$\n",
    "\n",
    "The momentum operator in position space is given by\n",
    "\n",
    "$$\n",
    "\\hat p = -i \\hbar \\frac{\\partial}{\\partial x}\n",
    "$$"
   ]
  },
  {
   "cell_type": "markdown",
   "id": "8c1334c4-f5dc-4008-aa8d-16a091e1b396",
   "metadata": {},
   "source": [
    "Therefore we can write\n",
    "\n",
    "$$\n",
    "\\tilde \\psi (x) \\approx \\left( 1 -  i \\Delta x \\hat p  / \\hbar \\right) \\psi(x)\n",
    "$$"
   ]
  },
  {
   "cell_type": "markdown",
   "id": "623d6c0a-7de6-430f-83bf-65815ad15e64",
   "metadata": {},
   "source": [
    "If we split the translation $\\Delta x$ into $N$ small successive translations, each of amount $\\Delta x/N$\n",
    "\n",
    "$$\n",
    "\\left( 1 - i \\frac{\\Delta x}{N} \\hat p / \\hbar\\right) \\left( 1 - i \\frac{\\Delta x}{N} \\hat p / \\hbar\\right)\n",
    "\\dots \\left( 1 - i \\frac{\\Delta x}{N} \\hat p / \\hbar\\right) = \\left( 1 - i \\frac{\\Delta x}{N} \\hat p / \\hbar\\right)^{N}\n",
    "$$"
   ]
  },
  {
   "cell_type": "markdown",
   "id": "2ab7bc98-8d87-4b33-8de7-0ba6f580167e",
   "metadata": {},
   "source": [
    "and take the limit $N \\to \\infty$, we can identify that with the [exponential function](https://en.wikipedia.org/wiki/Characterizations_of_the_exponential_function):\n",
    "\n",
    "$$\n",
    "\\lim_{N \\to \\infty} \\left( 1 - i \\frac{\\Delta x}{N} \\hat p / \\hbar\\right)^{N}\n",
    "= \\exp \\left(- i \\Delta x \\hat p / \\hbar \\right)\n",
    "$$"
   ]
  },
  {
   "cell_type": "markdown",
   "id": "9c00f38d-06ef-454c-a102-970888f445d7",
   "metadata": {},
   "source": [
    "So we find\n",
    "\n",
    "$$\n",
    "\\boxed{\\hat U_{\\Delta x} = \\exp \\left(- i \\Delta x \\hat p / \\hbar \\right)} \\, .\n",
    "$$"
   ]
  },
  {
   "cell_type": "markdown",
   "id": "d5b717be-5548-437d-b6c4-55b43bf7711f",
   "metadata": {},
   "source": [
    "## Operator as a function argument\n",
    "\n",
    "### Taylor series\n",
    "\n",
    "Having an operator as an argument for the exponential function might seem strange, but there are two ways \n",
    "to look at this. First, we know that the expansion of the exponential function is\n",
    "\n",
    "$$\n",
    "\\exp x = 1 + x + \\frac{1}{2!} x^2 + \\frac{1}{3!} x^3 + \\dots\n",
    "$$\n",
    "\n",
    "The substition of the momentum operator with the derivative (in position space) in the exponential then gives\n",
    "\n",
    "$$\n",
    "\\exp \\left(- i \\Delta x \\hat p / \\hbar \\right) | \\psi \\rangle\n",
    "\\longrightarrow \n",
    "\\exp \\left( - \\Delta x \\frac{\\partial}{\\partial x} \\right) \\psi (x)\n",
    "$$"
   ]
  },
  {
   "cell_type": "markdown",
   "id": "0031fab3-2623-4dca-822e-67df97c431d7",
   "metadata": {},
   "source": [
    "and this is just the [Taylor series](https://en.wikipedia.org/wiki/Taylor_series)\n",
    "expansion for $\\psi (x - \\Delta x)$\n",
    "\n",
    "$$\n",
    "\\psi (x - \\Delta x) = \\psi(x) - \\Delta x \\frac{\\partial}{\\partial x} \\psi(x) + \n",
    "\\frac{{\\Delta x}^2}{2!} \\frac{\\partial^2}{\\partial x^2} \\psi(x) + \\dots\n",
    "$$"
   ]
  },
  {
   "cell_type": "markdown",
   "id": "8132cc6e-9378-4aa9-836b-f51b9cfa18cd",
   "metadata": {},
   "source": [
    "### Momentum Space\n",
    "\n",
    "The strangeness of having operators inside the exponential vanishes, if we move to momentum space. Using \n",
    "the basis vectors $\\hat p \\vert p \\rangle = p \\vert p \\rangle$ with $\\langle p' \\vert p \\rangle = \\delta_{p',p}$ we write\n",
    "\n",
    "$$\n",
    "\\begin{align}\n",
    "\\exp \\left(- i \\Delta x \\hat p / \\hbar \\right) | \\psi \\rangle \n",
    "&= \\sum_{p', p} |p'\\rangle \\langle p'| \\exp \\left(- i \\Delta x \\hat p / \\hbar \\right) |p\\rangle \\langle p| \\psi \\rangle \\\\\n",
    "&= \\sum_{p} \\exp \\left(- i \\Delta x p / \\hbar \\right) \\psi(p) |p\\rangle\n",
    "\\end{align}\n",
    "$$\n",
    "\n",
    "This can be done, because we the operator $\\hat U_{\\Delta x} = \\exp \\left(- i \\Delta x \\hat p / \\hbar \\right)$\n",
    "commutes with $\\hat p$ and therefore the eigenvectors of $\\hat p$ are also eigenvectors of $\\hat U_{\\Delta x}$.\n",
    "In the last line, the arguments of the exponentials contain ordinary numbers $p$ as the eigenvalues of $\\hat p$.\n"
   ]
  },
  {
   "cell_type": "markdown",
   "id": "bd4b5c03-047a-485f-9d54-f934b5c7ff4b",
   "metadata": {},
   "source": [
    "## Unitary Operators\n",
    "\n",
    "If we can shift the state by $\\Delta x$ to the right, we can also reverse the operation by applying a shift of\n",
    "$-\\Delta x$, which will return the original state. The reversal of an operation $\\hat U$ is expressed by $\\hat U^{-1}$.\n",
    "Here we have\n",
    "\n",
    "$$\n",
    "\\hat U_{\\Delta x}^{-1} = \\hat U_{-\\Delta x}\n",
    "$$\n",
    "\n",
    "and\n",
    "\n",
    "$$\n",
    "\\hat U_{\\Delta x}^{-1} \\hat U_{\\Delta x} \\psi(x) = \\psi (x) \\, .\n",
    "$$\n",
    "\n",
    "If we take a a look at the expression of $\\hat U_{\\Delta x}$ in terms of the momentum operator we find\n",
    "\n",
    "$$\n",
    "\\hat U_{\\Delta x}^{-1} = \\hat U_{-\\Delta x} = \\exp \\left(i \\Delta x \\hat p / \\hbar \\right)\n",
    "$$\n",
    "\n",
    "This means, as $\\hat p^\\dagger = \\hat p$ is a Hermitian operator we find\n",
    "\n",
    "$$\n",
    "\\hat U_{\\Delta x}^{-1} = \\hat U_{\\Delta x}^\\dagger \\, .\n",
    "$$\n",
    "\n",
    "An operator with $\\hat A^{-1} = \\hat A^\\dagger$ is called [*unitary*](https://en.wikipedia.org/wiki/Unitary_operator). \n",
    "\n",
    "\n",
    "All eigenvalues of an *unitary* operator lie on the *unit* circle in the complex plane, that is $\\lambda_U = e^{i \\alpha}$ and\n",
    "$\\alpha \\in \\mathbb{R}$, because the eigenvalues $\\lambda_p$ of the Hermitian operator $\\hat p$ are real and\n",
    "the eigenvectors of $\\hat p$ are also eigenvectors of $\\hat U_{\\Delta x}$, so we have\n",
    "\n",
    "$$\n",
    "\\hat U_{\\Delta x} \\vert p \\rangle = \\exp \\left(-i \\Delta x \\lambda_p / \\hbar \\right) \\vert p \\rangle\n",
    "= \\lambda_U \\vert p \\rangle\n",
    "$$\n",
    "\n",
    "which gives $\\lambda_U = e^{-i \\Delta x \\lambda_p / \\hbar}$."
   ]
  },
  {
   "cell_type": "markdown",
   "id": "41711075-2487-4290-90de-fcfcfaa8473a",
   "metadata": {},
   "source": [
    "The operators $\\hat U_{\\Delta x}$ form a [Lie group](https://en.wikipedia.org/wiki/Symmetry_in_quantum_mechanics#Overview_of_Lie_group_theory).\n",
    "Lie groups are continuous and a group parameter $\\zeta \\in \\mathbb{R}$ defines the individual group element $G(\\zeta)$. For the parameter $\\zeta = 0$ the group element is the identitiy element, $G(0) = 1$.\n",
    "The *generator* $X$ of a Lie group describes the linear approximation for the group elements on the parameter at the identity element:\n",
    "\n",
    "$$\n",
    "X = \\left. \\frac{\\partial G}{\\partial \\zeta} \\right|_{\\zeta = 0}\n",
    "$$\n",
    "\n",
    "Here the Lie group is the unitary translation operator $\\hat U_{\\Delta x}$ and the group parameter is $\\Delta x$. Taking the derivative\n",
    "we find the generator to be $-i \\hat p / \\hbar$. So the generator of spatial translations is the momentum operator (with some conversion factors)."
   ]
  },
  {
   "cell_type": "markdown",
   "id": "a73183b1-252f-4d33-8093-04573f69b8d5",
   "metadata": {},
   "source": [
    "# Code example"
   ]
  },
  {
   "cell_type": "markdown",
   "id": "3bf2e556-5173-4cc8-8937-b11513334ab8",
   "metadata": {},
   "source": [
    "We want to shift a wave function $\\psi(x) = \\langle x \\vert \\psi \\rangle$ using the momentum space. The shifted wave function is\n",
    "\n",
    "$$\n",
    "\\tilde \\psi(x) = \\langle x | \\hat U | \\psi \\rangle\n",
    "$$\n",
    "\n",
    "Using the unit operator in $p$ and $x$-space, we find\n",
    "\n",
    "$$\n",
    "\\int_p dp \\langle x | p \\rangle  \\int_{p'} dp' \\langle p | \\hat U | p' \\rangle \\int_{x'} dx'  \\langle p' | x' \\rangle \\langle x' | \\psi \\rangle\n",
    "$$\n",
    "\n",
    "the $\\vert p \\rangle$ are eigenvectors of $\\hat U$ and $\\langle p \\vert p' \\rangle = \\delta(p - p')$, so this simplifies to\n",
    "\n",
    "$$\n",
    "\\int_p dp \\langle x | p \\rangle \\langle p | \\hat U | p \\rangle \\int_{x'} dx'  \\langle p | x' \\rangle \\langle x' | \\psi \\rangle\n",
    "$$\n"
   ]
  },
  {
   "cell_type": "markdown",
   "id": "1b410ae6-7ea3-4770-9389-90839f553ad9",
   "metadata": {
    "tags": []
   },
   "source": [
    "## Discrete Space\n",
    "\n",
    "[Previously](https://znswanderer.github.io/physics/Discrete/) we have discussed\n",
    "how to represent the wavefunction $\\psi(x)$ in a discretized space with $N$ bins:\n",
    "\n",
    "$$\n",
    "\\langle x | \\psi \\rangle = \\psi(x) \\mapsto \n",
    "\\mathbf{\\psi} = \\begin{pmatrix}\n",
    "\\psi_0 \\\\\n",
    "\\psi_1 \\\\\n",
    "\\vdots \\\\\n",
    "\\psi_{N-1}\n",
    "\\end{pmatrix}\n",
    "$$\n",
    "\n",
    "The $l$-th complex conjugated momentum eigenfunction $\\langle p_l \\vert x \\rangle$ can then be\n",
    "described by a row vector and the scalar procuct becomes the multiplication of\n",
    "a row with a column vector:\n",
    "\n",
    "$$\n",
    "\\int_{x'} dx'  \\langle p_l | x' \\rangle \\langle x' | \\psi \\rangle \\mapsto \n",
    "\\begin{pmatrix}\n",
    "p_{l, 0}^* &\n",
    "p_{l, 1}^* &\n",
    "\\dots &\n",
    "p_{l, N-1}^*\n",
    "\\end{pmatrix}\n",
    "\\begin{pmatrix}\n",
    "\\psi_0 \\\\\n",
    "\\psi_1 \\\\\n",
    "\\vdots \\\\\n",
    "\\psi_{N-1}\n",
    "\\end{pmatrix}\n",
    "$$\n",
    "\n",
    "In discrete space of binning $N$, the momentum operator also has $N$ eigenvectors and we can stack\n",
    "the $N$ eigenvectors to form a quadratic matrix\n",
    "\n",
    "$$\n",
    "\\mathbf{Q}^{-1} \n",
    "= \\begin{pmatrix}\n",
    "p_{0, 0}^* &\n",
    "p_{0, 1}^* &\n",
    "\\dots &\n",
    "p_{0, N-1}^* \n",
    "\\\\\n",
    "p_{1, 0}^* &\n",
    "p_{1, 1}^* &\n",
    "\\dots &\n",
    "p_{1, N-1}^* \n",
    "\\\\\n",
    "\\vdots \\\\\n",
    "p_{N-1, 0}^* &\n",
    "p_{N-1, 1}^* &\n",
    "\\dots &\n",
    "p_{N-1, N-1}^* \n",
    "\\end{pmatrix}\n",
    "$$\n",
    "\n",
    "with this we can write the complete expression for $\\mathbf{\\tilde \\psi}$ in discrete space as\n",
    "\n",
    "$$\n",
    "\\boxed{\\mathbf{\\tilde \\psi} = \\mathbf{Q} \\mathbf{\\Lambda_U} \\mathbf{Q}^{-1} \\mathbf{\\psi}} \\, ,\n",
    "$$\n",
    "\n",
    "where $\\mathbf{\\Lambda_U}$ is the diagonal matrix $\\langle p \\vert \\hat U \\vert p \\rangle$.\n",
    "This is known as [Eigendecomposition](https://en.wikipedia.org/wiki/Eigendecomposition_of_a_matrix#Eigendecomposition_of_a_matrix)."
   ]
  },
  {
   "cell_type": "markdown",
   "id": "dc9b22cd-98cb-49da-9e41-077569283b99",
   "metadata": {},
   "source": [
    "The momentum eigenfunction are\n",
    "\n",
    "$$\n",
    "-i \\hbar \\frac{\\partial}{\\partial x} e^{ikx} = \\hbar k e^{ikx} \\, .\n",
    "$$\n",
    "\n",
    "If we use periodic boundary conditions, $\\psi(x) = \\psi(x + L)$, the values for $k$ are discrete: $k = \\pm 2 \\pi n / L$.\n",
    "This disceteness is not because of the discretization of space, but because of the periodicity. The\n",
    "values for $n$ are not bounded, but now because of the discretization of space, there are only $N$ linear indepentent \n",
    "eigenvectors. We will choose the eigenvectors for $n= -\\frac{N}{2}, -\\frac{N}{2} +1, \\dots , \\frac{N}{2} -1$. "
   ]
  },
  {
   "cell_type": "code",
   "execution_count": 1,
   "id": "17a79cff-9ac6-43d2-bbcb-53166de01be8",
   "metadata": {},
   "outputs": [],
   "source": [
    "import numpy as np\n",
    "from scipy import sparse\n",
    "import scipy.sparse.linalg as linalg\n",
    "import matplotlib.pyplot as plt\n",
    "\n",
    "N = 300\n",
    "L = 1\n",
    "hbar = 1\n",
    "x = np.linspace(0, L, N, endpoint=False)\n",
    "dx = np.diff(x)[0]\n",
    "\n",
    "ns = range(-N//2, N//2)\n",
    "ks = [(2 * np.pi / L) * n for n in ns]\n",
    "psis = [np.exp(1j * k * x).T.conj() / np.sqrt(N) for k in ks]\n",
    "Q_inv = np.array(psis)\n",
    "Q = Q_inv.T.conj()\n",
    "\n",
    "delta_x = 0.1\n",
    "U_dx = sparse.diags(np.exp(-1j * delta_x * np.array(ks)))"
   ]
  },
  {
   "cell_type": "markdown",
   "id": "11c69104-7309-433e-a8c5-315357d863f2",
   "metadata": {},
   "source": [
    "The test function shall be a simple gaussian. In this function we can now apply the shift operator for $\\Delta x = 0.1$:"
   ]
  },
  {
   "cell_type": "code",
   "execution_count": 2,
   "id": "3d0a4736-57fe-46f7-9c8d-10c5c9236992",
   "metadata": {
    "tags": [
     "remove_cell"
    ]
   },
   "outputs": [],
   "source": [
    "plt.rcParams['figure.dpi'] = 300\n",
    "plt.style.use(['science', 'notebook', 'grid', 'vibrant'])\n",
    "%matplotlib inline\n",
    "%config InlineBackend.figure_format = 'retina'"
   ]
  },
  {
   "cell_type": "code",
   "execution_count": 3,
   "id": "617305b5-08e0-4e00-841a-dbf62a530dac",
   "metadata": {
    "tags": []
   },
   "outputs": [
    {
     "data": {
      "image/png": "[encoded data removed]",
      "text/plain": [
       "<Figure size 504x360 with 1 Axes>"
      ]
     },
     "metadata": {
      "image/png": {
       "height": 298,
       "width": 426
      },
      "needs_background": "light"
     },
     "output_type": "display_data"
    }
   ],
   "source": [
    "gauss = np.exp(-(x-0.5)**2/0.01)\n",
    "plt.figure(figsize=(7,5))\n",
    "plt.plot(x, gauss, label=r\"$\\psi(x)$\")\n",
    "gauss2 = Q @ U_dx @ Q_inv @ gauss\n",
    "plt.plot(x, gauss2.real, label=r\"$\\tilde \\psi(x)$\")\n",
    "plt.legend();"
   ]
  },
  {
   "cell_type": "markdown",
   "id": "ecb7dd8a-0641-4bba-8156-0bbab4471ce7",
   "metadata": {},
   "source": [
    "And this is the result, that we wanted to achieve."
   ]
  }
 ],
 "metadata": {
  "kernelspec": {
   "display_name": "Python 3 (ipykernel)",
   "language": "python",
   "name": "python3"
  },
  "language_info": {
   "codemirror_mode": {
    "name": "ipython",
    "version": 3
   },
   "file_extension": ".py",
   "mimetype": "text/x-python",
   "name": "python",
   "nbconvert_exporter": "python",
   "pygments_lexer": "ipython3",
   "version": "3.8.13"
  }
 },
 "nbformat": 4,
 "nbformat_minor": 5
}
