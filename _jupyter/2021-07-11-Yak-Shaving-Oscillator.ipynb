{
 "cells": [
  {
   "cell_type": "raw",
   "id": "c75a5dca-3d2e-4583-b57f-b6564ed27858",
   "metadata": {},
   "source": [
    "---\n",
    "layout: post\n",
    "title:  \"Yak shaving and more on the Harmonic Oscillator\"\n",
    "date:   2021-07-11\n",
    "categories: blog\n",
    "usemathjax: true\n",
    "tags:   [Physics, Python, SymPy, Quantum Mechanics, Harmonic Oscillator, sympy.integrate, yak shaving]\n",
    "---"
   ]
  },
  {
   "cell_type": "markdown",
   "id": "966cd09c-6a3a-4423-83f6-e16f6399a9ff",
   "metadata": {},
   "source": [
    "Ok, this week I found myself engrossed in a bit of [yak shaving][yak]. It all started as I\n",
    "wanted to use python functions as representations for quantum operators.\n",
    "\n",
    "[yak]: https://en.wiktionary.org/wiki/yak_shaving"
   ]
  },
  {
   "cell_type": "raw",
   "id": "d04d160b-9db8-4d31-9041-aff16402be63",
   "metadata": {
    "tags": []
   },
   "source": [
    "<!--more-->"
   ]
  },
  {
   "cell_type": "markdown",
   "id": "eaaa87a9-5a58-4dfe-b108-a4e3f8728fee",
   "metadata": {},
   "source": [
    "In the first version of this python representation the Hamiltonian for the harmonic oscillator\n",
    "\n",
    "$$\n",
    "\\hat H = \\left( \\hat a^\\dagger \\hat a + \\frac{1}{2} \\right)\n",
    "$$\n",
    "\n",
    "could be expressed as\n",
    "\n",
    "```python\n",
    "Hamiltonian = add(mult(a_creation, a_annihilation), scalar_op(smp.Rational(1, 2)))\n",
    "```\n",
    "\n",
    "where for example the annihilation operator\n",
    "\n",
    "$$\n",
    "\\hat a = \\frac{1}{\\sqrt{2}} \\left( \\hat x + i \\hat p \\right)\n",
    "$$\n",
    "\n",
    "would be abstractly defined in python as\n",
    "\n",
    "```python\n",
    "a_annihilation = scalar_product(1/smp.sqrt(2), \n",
    "                                add(position, scalar_product(smp.I, momentum)))\n",
    "```\n",
    "\n",
    "and the position and momentum operators are then python functions, that take a `wav_func`\n",
    "object as input, which is itself a SymPy function object:\n",
    "\n",
    "```python\n",
    "def position(wav_func):\n",
    "    return x * wav_func\n",
    "\n",
    "def momentum(wav_func):\n",
    "    return - smp.I * smp.diff(wav_func, x)\n",
    "```\n",
    "\n",
    "This was all very neat and (relatively) simple. \n",
    "\n",
    "## Operators as a Python Class\n",
    "\n",
    "But then I thought, that all this\n",
    "`add(op_A, op_B)` was not really \"elegant\" and I would like to do things more directly,\n",
    "like adding operators: `op_A + op_B`. \n",
    "\n",
    "Python, like most programming languages, has support for overloading\n",
    "arithmetic operations like `+` or `*` for self-defined types, via\n",
    "the [\"magic\" methods][magic] like `__add__`, `__mul__` and so on.\n",
    "\n",
    "So I quickly threw together a small script for trying this out:\n",
    "\n",
    "\n",
    "[magic]: https://rszalski.github.io/magicmethods/#numeric"
   ]
  },
  {
   "cell_type": "code",
   "execution_count": 1,
   "id": "6ff77a05-5ebe-4084-bce0-74e635596b12",
   "metadata": {},
   "outputs": [],
   "source": [
    "from numbers import Number\n",
    "import sympy as smp\n",
    "\n",
    "class Operator:\n",
    "\n",
    "    number_types = (Number, smp.core.Expr)\n",
    "\n",
    "    def __init__(self, func):\n",
    "        self.func = func\n",
    "\n",
    "    def __call__(self, v):\n",
    "        return smp.simplify(self.func(v))\n",
    "\n",
    "    def __mul__(self, other):\n",
    "        if isinstance(other, Operator):\n",
    "            return Operator(lambda v: self(other(v)))            \n",
    "        elif isinstance(other, self.number_types):\n",
    "            return Operator(lambda v: self(v) * other)\n",
    "        else:\n",
    "            return NotImplemented\n",
    "\n",
    "    def __rmul__(self, other):\n",
    "        if isinstance(other, self.number_types):\n",
    "            return Operator(lambda v: other * self(v))\n",
    "        else:\n",
    "            return NotImplemented\n",
    "\n",
    "    def __div__(self, other):\n",
    "        if isinstance(other, Operator):\n",
    "            return NotImplemented\n",
    "        elif isinstance(other, self.number_types):\n",
    "            return Operator(lambda v: self(v)/other)\n",
    "        else:\n",
    "            return NotImplemented\n",
    "\n",
    "    def __truediv__(self, other):\n",
    "        if isinstance(other, Operator):\n",
    "            return NotImplemented\n",
    "        elif isinstance(other, self.number_types):\n",
    "            return Operator(lambda v: self(v)/other)\n",
    "        else:\n",
    "            return NotImplemented        \n",
    "\n",
    "    def __add__(self, other):\n",
    "        if isinstance(other, Operator):\n",
    "            return Operator(lambda v: self(v) + other(v))\n",
    "        elif isinstance(other, self.number_types):\n",
    "            return self + Scalar(other)\n",
    "        else:\n",
    "            return NotImplemented\n",
    "\n",
    "    def __radd__(self, other):\n",
    "        if isinstance(other, self.number_types):\n",
    "            return Scalar(other) + self\n",
    "\n",
    "    def __sub__(self, other):\n",
    "        if isinstance(other, Operator):\n",
    "            return Operator(lambda v: self(v) - other(v))\n",
    "        elif isinstance(other, self.number_types):\n",
    "            return self - Scalar(other)\n",
    "        else:\n",
    "            return NotImplemented\n",
    "\n",
    "    def __rsub__(self, other):\n",
    "        if isinstance(other, self.number_types):\n",
    "            return Scalar(other) - self\n",
    "\n",
    "    def __neg__(self):\n",
    "        return Operator(lambda v: -self(v))\n",
    "\n",
    "    def __pow__(self, n):\n",
    "        if isinstance(n, int):\n",
    "            if n == 0:\n",
    "                return Scalar(1)\n",
    "            elif n == 1:\n",
    "                return self\n",
    "            elif n > 1:\n",
    "                return self * self**(n - 1)\n",
    "            else:\n",
    "                return NotImplemented\n",
    "        else:\n",
    "            return NotImplemented\n",
    "\n",
    "\n",
    "class Scalar(Operator):\n",
    "    def __init__(self, s):\n",
    "        self.s = s\n",
    "\n",
    "    def __call__(self, v):\n",
    "        return self.s * v\n",
    "\n",
    "\n",
    "def canonical_operators(var):\n",
    "    \"\"\"Returns the canonical operators $(\\hat x, \\hat p_x)$ for the spatial dimension var\n",
    "    in SymPy.\n",
    "    \"\"\"\n",
    "    return Operator(lambda f: var * f), Operator(lambda f: - smp.I * smp.diff(f, var))"
   ]
  },
  {
   "cell_type": "markdown",
   "id": "a9fdc17b-f765-4c57-84ea-e117a7a407a0",
   "metadata": {},
   "source": [
    "And it seemed to work quite well, for such a small script! \n",
    "\n",
    "First I defined the SymPy objects for the wave function $\\psi$ and the \n",
    "spatial dimension $x$:"
   ]
  },
  {
   "cell_type": "code",
   "execution_count": 2,
   "id": "6c7664b9-6e33-4ee2-a678-2b40a6c5c688",
   "metadata": {},
   "outputs": [],
   "source": [
    "psi = smp.Function(r'\\psi')\n",
    "x = smp.symbols('x', real=True)"
   ]
  },
  {
   "cell_type": "markdown",
   "id": "be8940e6-2716-41da-8aa3-c26a049923b4",
   "metadata": {},
   "source": [
    "And now I can simply create the canonical operators for this dimension:"
   ]
  },
  {
   "cell_type": "code",
   "execution_count": 3,
   "id": "b27ea2c6-0e4f-47c3-ad44-a3c5e8a1fdc4",
   "metadata": {},
   "outputs": [],
   "source": [
    "X, Px = canonical_operators(x)"
   ]
  },
  {
   "cell_type": "markdown",
   "id": "63d59975-b3b8-467e-b708-8ff0ec4fba5c",
   "metadata": {},
   "source": [
    "With these operators it's rather simple to define the Hamiltion for the harmonic oscillator and\n",
    "apply it to the wavefunction:"
   ]
  },
  {
   "cell_type": "code",
   "execution_count": 4,
   "id": "70a2aa4c-4eb4-4641-b479-c35f4a4f678e",
   "metadata": {},
   "outputs": [
    {
     "data": {
      "text/latex": [
       "$\\displaystyle \\frac{x^{2} \\psi{\\left(x \\right)}}{2} - \\frac{\\frac{d^{2}}{d x^{2}} \\psi{\\left(x \\right)}}{2}$"
      ],
      "text/plain": [
       "x**2*\\psi(x)/2 - Derivative(\\psi(x), (x, 2))/2"
      ]
     },
     "execution_count": 4,
     "metadata": {},
     "output_type": "execute_result"
    }
   ],
   "source": [
    "H = Px**2 / 2 + X**2 / 2\n",
    "H(psi(x))"
   ]
  },
  {
   "cell_type": "markdown",
   "id": "e9680b57-2b3f-4f54-8420-504f317e86ca",
   "metadata": {},
   "source": [
    "It is also quite easy to include more dimensions and get the Hamiltonian $\\hat H_{2d}$ for the two-dimensional Oscillator:"
   ]
  },
  {
   "cell_type": "code",
   "execution_count": 5,
   "id": "cec6470a-2940-466b-92d3-cf4487730a7e",
   "metadata": {},
   "outputs": [
    {
     "data": {
      "text/latex": [
       "$\\displaystyle \\frac{\\left(x^{2} + y^{2}\\right) \\psi{\\left(x,y \\right)}}{2} - \\frac{\\frac{\\partial^{2}}{\\partial x^{2}} \\psi{\\left(x,y \\right)}}{2} - \\frac{\\frac{\\partial^{2}}{\\partial y^{2}} \\psi{\\left(x,y \\right)}}{2}$"
      ],
      "text/plain": [
       "(x**2 + y**2)*\\psi(x, y)/2 - Derivative(\\psi(x, y), (x, 2))/2 - Derivative(\\psi(x, y), (y, 2))/2"
      ]
     },
     "execution_count": 5,
     "metadata": {},
     "output_type": "execute_result"
    }
   ],
   "source": [
    "y = smp.symbols('y', real=True)\n",
    "Y, Py = canonical_operators(y)\n",
    "H_2d = (Px**2 + Py**2) / 2 + (X**2 + Y**2) / 2\n",
    "H_2d(psi(x, y))"
   ]
  },
  {
   "cell_type": "markdown",
   "id": "e859604d-1242-4cb3-ac91-ec708a58c13a",
   "metadata": {},
   "source": [
    "Or use the ladder operators:"
   ]
  },
  {
   "cell_type": "code",
   "execution_count": 6,
   "id": "60fea03c-980d-4245-8e18-27160569298f",
   "metadata": {},
   "outputs": [
    {
     "data": {
      "text/latex": [
       "$\\displaystyle \\frac{x^{2} \\psi{\\left(x,y \\right)}}{2} + \\frac{y^{2} \\psi{\\left(x,y \\right)}}{2} - \\psi{\\left(x,y \\right)} - \\frac{\\frac{\\partial^{2}}{\\partial x^{2}} \\psi{\\left(x,y \\right)}}{2} - \\frac{\\frac{\\partial^{2}}{\\partial y^{2}} \\psi{\\left(x,y \\right)}}{2}$"
      ],
      "text/plain": [
       "x**2*\\psi(x, y)/2 + y**2*\\psi(x, y)/2 - \\psi(x, y) - Derivative(\\psi(x, y), (x, 2))/2 - Derivative(\\psi(x, y), (y, 2))/2"
      ]
     },
     "execution_count": 6,
     "metadata": {},
     "output_type": "execute_result"
    }
   ],
   "source": [
    "ax = (X + smp.I * Px) / smp.sqrt(2)\n",
    "ax_dag = (X - smp.I * Px) / smp.sqrt(2)\n",
    "ay = (Y + smp.I * Py) / smp.sqrt(2)\n",
    "ay_dag = (Y - smp.I * Py) / smp.sqrt(2)\n",
    "\n",
    "(ax_dag * ax + ay_dag * ay)(psi(x, y))"
   ]
  },
  {
   "cell_type": "markdown",
   "id": "7687920b-bc62-4515-a30f-a4759b784900",
   "metadata": {},
   "source": [
    "By just comparing this expression with $\\hat H_{2d}$ we can see, that\n",
    "\n",
    "$$\n",
    "\\hat H_{2d} = \\hat a_x^\\dagger \\hat a_x + \\hat a_y^\\dagger \\hat a_y + 1\n",
    "$$\n",
    "\n",
    "So by just applying this simple operator framework we found that the ground energy of the harmonic oscillator in $N_{dim}$ \n",
    "[dimensions][dim_ho] is $N_{dim}/2$, which is not too surprising.\n",
    "\n",
    "[dim_ho]: https://en.wikipedia.org/wiki/Quantum_harmonic_oscillator#N-dimensional_isotropic_harmonic_oscillator"
   ]
  },
  {
   "cell_type": "markdown",
   "id": "0e5a2121-e7bf-4cad-a99b-9d33c3d3be2b",
   "metadata": {},
   "source": [
    "## But then I started to get lost in the woods...\n",
    "\n",
    "The little script above is quite neat, but it has a lot of shortcomings. So I departed on a sidequest\n",
    "to make a *perfect* operator algebra python module, with vectors, dual vectos, bras and kets and Hilbert spaces and all the good stuff. \n",
    "Needless to say, in the beginning it seemed like a good idea, but the further I moved along, the more\n",
    "it became clear, that I was in fact *shaving a yak.*\n",
    "\n",
    "Why was I doing that? There are perfectly good libraries in Python available for these things. \n",
    "Libraries like:\n",
    "\n",
    "* <https://docs.sympy.org/latest/modules/physics/quantum/index.html>\n",
    "* <https://qutip.org/>\n",
    "\n",
    "There's no need to re-invent the wheel!\n",
    "\n",
    "And in the end, I will switch to numerics soon enough anyway. Then all the quantum stuff \n",
    "will be just matrix multiplication.\n",
    "\n",
    "All very simple. And, as [someone][who] said: \n",
    "\n",
    "> Everything Should Be Made as Simple as Possible, But Not Simpler\n",
    "\n",
    "Only the question remains: what is *simple?*\n",
    "\n",
    "In the end, I shelved this \"perfect\" python module and will move on from symbolic/analytic treatment\n",
    "of the harmonic oscillator with SymPy. But before that, there is a bonus track!\n",
    "\n",
    "[who]: https://quoteinvestigator.com/2011/05/13/einstein-simple/"
   ]
  },
  {
   "cell_type": "markdown",
   "id": "8b738825-f21e-4814-9e3d-44ee251f39e8",
   "metadata": {},
   "source": [
    "## Bonus Yak\n",
    "\n",
    "Here we want to take a closer look at the first eigenfunctions of the harmonic oscillator. For this\n",
    "we define two new useful operations in python: \n",
    "\n",
    "The normalisation of a wave function:\n",
    "\n",
    "$$\n",
    "\\textrm{normalize}: \\, \\psi (x) \\mapsto \\frac{\\psi (x)}{\\int_{-\\infty}^{\\infty} |\\psi(x)|^2 dx}\n",
    "$$\n",
    "\n",
    "and measuring an operator:\n",
    "\n",
    "$$\n",
    "\\textrm{measure}: \\, \\left(\\hat A, \\psi(x)\\right) \\mapsto \\int_{-\\infty}^{\\infty} \\psi^*(x) \\hat A \\psi(x) dx\n",
    "$$"
   ]
  },
  {
   "cell_type": "code",
   "execution_count": 7,
   "id": "1a6e9556-cc02-41b2-b1eb-bd16270f4ced",
   "metadata": {},
   "outputs": [],
   "source": [
    "def normalize(wav_func):\n",
    "    \"\"\"Normalize a wave function psi(x), such that\n",
    "    $\\int_{-\\infty}^\\infty |psi(x)|^2 dx = 1\n",
    "    \"\"\"\n",
    "    c = smp.integrate(smp.Abs(wav_func)**2, (x, -smp.oo, smp.oo))\n",
    "    return wav_func / smp.sqrt(c)\n",
    "\n",
    "def measure(operator, wav_func):\n",
    "    \"\"\"Compute <wav_func | operator | wav_func>\n",
    "    \"\"\"\n",
    "    return smp.integrate(smp.conjugate(wav_func) * operator(wav_func), (x, -smp.oo, smp.oo))"
   ]
  },
  {
   "cell_type": "markdown",
   "id": "b7982893-dc16-423a-be22-4d3d436ed735",
   "metadata": {},
   "source": [
    "As written [last time][last], the ground state for the harmonic oscillator can found by\n",
    "the equation:\n",
    "\n",
    "$$\n",
    "\\hat a \\psi_0(x) = 0\n",
    "$$\n",
    "\n",
    "We once again use SymPy's `dsolve` for finding the solution and use the new operation\n",
    "for normalisation:\n",
    "\n",
    "[last]: https://znswanderer.github.io/blog/Harmonic-Oscillator-SymPy/"
   ]
  },
  {
   "cell_type": "code",
   "execution_count": 8,
   "id": "8ddfcb26-124e-47c3-9e23-186609ac3f7f",
   "metadata": {},
   "outputs": [
    {
     "data": {
      "text/latex": [
       "$\\displaystyle \\frac{C_{1} e^{- \\frac{x^{2}}{2}}}{\\sqrt[4]{\\pi} \\left|{C_{1}}\\right|}$"
      ],
      "text/plain": [
       "C1*exp(-x**2/2)/(pi**(1/4)*Abs(C1))"
      ]
     },
     "execution_count": 8,
     "metadata": {},
     "output_type": "execute_result"
    }
   ],
   "source": [
    "psi0 = normalize(smp.dsolve(ax(psi(x)), psi(x)).rhs)\n",
    "psi0"
   ]
  },
  {
   "cell_type": "markdown",
   "id": "252ff855-9d08-48c3-ab2a-45a21c419244",
   "metadata": {},
   "source": [
    "Here SymPy reminds us, that the the wave function can be multiplied by a complex factor \n",
    "of unit length\n",
    "$C_1 / |C_1| = e^{i \\alpha}, \\, \\alpha \\in \\mathbb{R}$.\n",
    "For simplicity we choose $C_1 = 1$:"
   ]
  },
  {
   "cell_type": "code",
   "execution_count": 9,
   "id": "91c804b5-0f0b-40ea-b983-8aab2926ed1c",
   "metadata": {},
   "outputs": [],
   "source": [
    "C1 = smp.symbols('C1')\n",
    "psi0 = psi0.subs([(C1, 1)])"
   ]
  },
  {
   "cell_type": "markdown",
   "id": "2fc02417-e291-4ee1-83c0-5d8659a7a7d0",
   "metadata": {},
   "source": [
    "And now we calculate the next eigenfunctions by repeated application[<sup>1</sup>](#fn1) of $\\hat a^\\dagger$:"
   ]
  },
  {
   "cell_type": "code",
   "execution_count": 10,
   "id": "bb96789a-cb3c-496d-a234-ca5324a772f6",
   "metadata": {},
   "outputs": [
    {
     "data": {
      "text/latex": [
       "$\\displaystyle \\begin{aligned}\n",
       "E_{0} &= \\frac{1}{2}, \\, \\psi_{0} = \\frac{e^{- \\frac{x^{2}}{2}}}{\\sqrt[4]{\\pi}} \\\\\n",
       "E_{1} &= \\frac{3}{2}, \\, \\psi_{1} = \\frac{\\sqrt{2} x e^{- \\frac{x^{2}}{2}}}{\\sqrt[4]{\\pi}} \\\\\n",
       "E_{2} &= \\frac{5}{2}, \\, \\psi_{2} = \\frac{\\sqrt{2} \\left(x^{2} - \\frac{1}{2}\\right) e^{- \\frac{x^{2}}{2}}}{\\sqrt[4]{\\pi}} \\\\\n",
       "E_{3} &= \\frac{7}{2}, \\, \\psi_{3} = \\frac{\\sqrt{3} x \\left(2 x^{2} - 3\\right) e^{- \\frac{x^{2}}{2}}}{3 \\sqrt[4]{\\pi}} \\\\\n",
       "E_{4} &= \\frac{9}{2}, \\, \\psi_{4} = \\frac{\\sqrt{6} \\left(\\frac{x^{4}}{3} - x^{2} + \\frac{1}{4}\\right) e^{- \\frac{x^{2}}{2}}}{\\sqrt[4]{\\pi}} \\\\\n",
       "E_{5} &= \\frac{11}{2}, \\, \\psi_{5} = \\frac{\\sqrt{15} x \\left(4 x^{4} - 20 x^{2} + 15\\right) e^{- \\frac{x^{2}}{2}}}{30 \\sqrt[4]{\\pi}} \\\\\n",
       "\\end{aligned}$"
      ],
      "text/plain": [
       "<IPython.core.display.Math object>"
      ]
     },
     "metadata": {},
     "output_type": "display_data"
    }
   ],
   "source": [
    "from IPython.display import display, Math\n",
    "\n",
    "N = 5\n",
    "psi_ns = [psi0]\n",
    "for n in range(1, N+1):\n",
    "    f = smp.simplify(normalize(ax_dag(psi_ns[-1])))\n",
    "    psi_ns.append(f)\n",
    "\n",
    "lines = []\n",
    "for n, f in enumerate(psi_ns):\n",
    "    E = measure(H, f) # A quick check of the energy for these states\n",
    "    lines.append(r\"E_{%d} &= %s, \\, \\psi_{%d} = %s \\\\\" % (n, smp.latex(E), n, smp.latex(f)))\n",
    "    \n",
    "display(Math(\"\\\\begin{aligned}\\n%s\\n\\\\end{aligned}\" % \"\\n\".join(lines)))"
   ]
  },
  {
   "cell_type": "markdown",
   "id": "53ecd411-7c04-4a1a-bc4f-3b9db1d0cedb",
   "metadata": {},
   "source": [
    "The energy eigenstates of the oscillator are not eigenstates of the position or momentum\n",
    "operator. This means, in these states the position and the momentum will not be sharply defined.\n",
    "\n",
    "So, it would be nice to take a look at the standard deviation of these operators.\n",
    "The standard deviation of an operator $\\hat A$ for the system in state $\\ket \\psi$ is\n",
    "defined as:\n",
    "\n",
    "$$\n",
    "\\left( \\Delta A \\right)_\\psi = \\sqrt{\n",
    "    \\bra \\psi A^2 \\ket \\psi - \\bra \\psi A \\ket \\psi^2\n",
    "}\n",
    "$$\n",
    "\n",
    "With the position space wave function $\\psi(x)$ we can define this in python as:"
   ]
  },
  {
   "cell_type": "code",
   "execution_count": 11,
   "id": "ec502742-a454-4f63-8c78-fdd81b2bd728",
   "metadata": {},
   "outputs": [],
   "source": [
    "def delta(operator, wav_func):\n",
    "    return smp.sqrt(measure(operator**2, wav_func) - measure(operator, wav_func)**2)"
   ]
  },
  {
   "cell_type": "markdown",
   "id": "abd0a6df-f1a6-4859-9a66-0966ad4846cb",
   "metadata": {},
   "source": [
    "First, let's check if the deviation of the energy really vanishes for the eigenfunctions:"
   ]
  },
  {
   "cell_type": "code",
   "execution_count": 12,
   "id": "3e599e00-8f23-441a-89fe-c44e3afea432",
   "metadata": {},
   "outputs": [
    {
     "data": {
      "text/latex": [
       "$\\displaystyle \\begin{aligned}\n",
       "{\\Delta E}_0 &= 0 \\\\\n",
       "{\\Delta E}_1 &= 0 \\\\\n",
       "{\\Delta E}_2 &= 0 \\\\\n",
       "{\\Delta E}_3 &= 0 \\\\\n",
       "{\\Delta E}_4 &= 0 \\\\\n",
       "{\\Delta E}_5 &= 0 \\\\\n",
       "\\end{aligned}$"
      ],
      "text/plain": [
       "<IPython.core.display.Math object>"
      ]
     },
     "metadata": {},
     "output_type": "display_data"
    }
   ],
   "source": [
    "lines = []\n",
    "for n, f in enumerate(psi_ns):\n",
    "    lines.append(r\"{\\Delta E}_%d &= %s \\\\\" % (n, smp.latex(delta(H, f))))\n",
    "    \n",
    "display(Math(\"\\\\begin{aligned}\\n%s\\n\\\\end{aligned}\" % \"\\n\".join(lines)))"
   ]
  },
  {
   "cell_type": "markdown",
   "id": "6c568d80-9dc2-44e8-94fb-febeea1353d2",
   "metadata": {},
   "source": [
    "Now, let's check for the famous expression $\\Delta x \\Delta p$:"
   ]
  },
  {
   "cell_type": "code",
   "execution_count": 13,
   "id": "1d718d49-389a-4f4e-b39a-64b4d278226d",
   "metadata": {},
   "outputs": [
    {
     "data": {
      "text/latex": [
       "$\\displaystyle \\begin{aligned}\n",
       "\\left(\\Delta x \\Delta p \\right)_0 &= \\frac{1}{2} \\\\\n",
       "\\left(\\Delta x \\Delta p \\right)_1 &= \\frac{3}{2} \\\\\n",
       "\\left(\\Delta x \\Delta p \\right)_2 &= \\frac{5}{2} \\\\\n",
       "\\left(\\Delta x \\Delta p \\right)_3 &= \\frac{7}{2} \\\\\n",
       "\\left(\\Delta x \\Delta p \\right)_4 &= \\frac{9}{2} \\\\\n",
       "\\left(\\Delta x \\Delta p \\right)_5 &= \\frac{11}{2} \\\\\n",
       "\\end{aligned}$"
      ],
      "text/plain": [
       "<IPython.core.display.Math object>"
      ]
     },
     "metadata": {},
     "output_type": "display_data"
    }
   ],
   "source": [
    "lines = []\n",
    "for n, f in enumerate(psi_ns):\n",
    "    dx = delta(X, f)\n",
    "    dp = delta(Px, f)\n",
    "    lines.append(r\"\\left(\\Delta x \\Delta p \\right)_{} &= {} \\\\\".format(\n",
    "        n, smp.latex(dx * dp)))\n",
    "    \n",
    "display(Math(\"\\\\begin{aligned}\\n%s\\n\\\\end{aligned}\" % \"\\n\".join(lines)))"
   ]
  },
  {
   "cell_type": "markdown",
   "id": "e459f9fd-d19c-40d7-a77c-d4536aa72572",
   "metadata": {},
   "source": [
    "So, if we re-introduce $\\hbar$, the ground state has the lowest possible uncertainty\n",
    "according to the uncertainty principle. And the overall uncertainty grows proportionally\n",
    "with the energy in the harmonic oscillator. An analytic derivation of this series\n",
    "can be found on the corresponding [wikipedia] page on the harmonic oscillator.\n",
    "\n",
    "[wikipedia]: https://en.wikipedia.org/wiki/Uncertainty_principle#Quantum_harmonic_oscillator_stationary_states"
   ]
  },
  {
   "cell_type": "markdown",
   "id": "888235eb-5089-4f5a-a90f-270762a3afba",
   "metadata": {},
   "source": [
    "## Final remarks\n",
    "\n",
    "Ok, that's all for now. There is still much, that can be done by just using \n",
    "SymPy in the study of quantum mechanics. But I think, it's time for moving \n",
    "to numerics and linear algebra in the next blog post."
   ]
  },
  {
   "cell_type": "markdown",
   "id": "11848a0d-e804-4d71-a257-28ab985bc65d",
   "metadata": {},
   "source": [
    "### Footnotes\n",
    "\n",
    "<span id=\"fn1\">1: This is surely not the most efficient way to get these functions.\n",
    "    For example in the `sympy.physics` module one can find all \n",
    "    eigenfunctions with `qho_1d.psi_n()`.\n",
    "</span>"
   ]
  }
 ],
 "metadata": {
  "kernelspec": {
   "display_name": "Python 3",
   "language": "python",
   "name": "python3"
  },
  "language_info": {
   "codemirror_mode": {
    "name": "ipython",
    "version": 3
   },
   "file_extension": ".py",
   "mimetype": "text/x-python",
   "name": "python",
   "nbconvert_exporter": "python",
   "pygments_lexer": "ipython3",
   "version": "3.8.8"
  }
 },
 "nbformat": 4,
 "nbformat_minor": 5
}
